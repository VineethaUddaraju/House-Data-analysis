{
 "cells": [
  {
   "cell_type": "markdown",
   "id": "797bdd13",
   "metadata": {},
   "source": [
    "Documentation for this dataset may be found at: http://jse.amstat.org/v19n3/decock/DataDocumentation.txt"
   ]
  },
  {
   "cell_type": "code",
   "execution_count": 1,
   "id": "7ec27661",
   "metadata": {},
   "outputs": [
    {
     "data": {
      "text/html": [
       "<div>\n",
       "<style scoped>\n",
       "    .dataframe tbody tr th:only-of-type {\n",
       "        vertical-align: middle;\n",
       "    }\n",
       "\n",
       "    .dataframe tbody tr th {\n",
       "        vertical-align: top;\n",
       "    }\n",
       "\n",
       "    .dataframe thead th {\n",
       "        text-align: right;\n",
       "    }\n",
       "</style>\n",
       "<table border=\"1\" class=\"dataframe\">\n",
       "  <thead>\n",
       "    <tr style=\"text-align: right;\">\n",
       "      <th></th>\n",
       "      <th>Overall Qual</th>\n",
       "      <th>Overall Cond</th>\n",
       "      <th>Total Bsmt SF</th>\n",
       "      <th>Central Air</th>\n",
       "      <th>Gr Liv Area</th>\n",
       "      <th>SalePrice</th>\n",
       "    </tr>\n",
       "  </thead>\n",
       "  <tbody>\n",
       "    <tr>\n",
       "      <th>0</th>\n",
       "      <td>6</td>\n",
       "      <td>5</td>\n",
       "      <td>1080.0</td>\n",
       "      <td>Y</td>\n",
       "      <td>1656</td>\n",
       "      <td>215000</td>\n",
       "    </tr>\n",
       "    <tr>\n",
       "      <th>1</th>\n",
       "      <td>5</td>\n",
       "      <td>6</td>\n",
       "      <td>882.0</td>\n",
       "      <td>Y</td>\n",
       "      <td>896</td>\n",
       "      <td>105000</td>\n",
       "    </tr>\n",
       "    <tr>\n",
       "      <th>2</th>\n",
       "      <td>6</td>\n",
       "      <td>6</td>\n",
       "      <td>1329.0</td>\n",
       "      <td>Y</td>\n",
       "      <td>1329</td>\n",
       "      <td>172000</td>\n",
       "    </tr>\n",
       "    <tr>\n",
       "      <th>3</th>\n",
       "      <td>7</td>\n",
       "      <td>5</td>\n",
       "      <td>2110.0</td>\n",
       "      <td>Y</td>\n",
       "      <td>2110</td>\n",
       "      <td>244000</td>\n",
       "    </tr>\n",
       "    <tr>\n",
       "      <th>4</th>\n",
       "      <td>5</td>\n",
       "      <td>5</td>\n",
       "      <td>928.0</td>\n",
       "      <td>Y</td>\n",
       "      <td>1629</td>\n",
       "      <td>189900</td>\n",
       "    </tr>\n",
       "  </tbody>\n",
       "</table>\n",
       "</div>"
      ],
      "text/plain": [
       "   Overall Qual  Overall Cond  Total Bsmt SF Central Air  Gr Liv Area  \\\n",
       "0             6             5         1080.0           Y         1656   \n",
       "1             5             6          882.0           Y          896   \n",
       "2             6             6         1329.0           Y         1329   \n",
       "3             7             5         2110.0           Y         2110   \n",
       "4             5             5          928.0           Y         1629   \n",
       "\n",
       "   SalePrice  \n",
       "0     215000  \n",
       "1     105000  \n",
       "2     172000  \n",
       "3     244000  \n",
       "4     189900  "
      ]
     },
     "execution_count": 1,
     "metadata": {},
     "output_type": "execute_result"
    }
   ],
   "source": [
    "import pandas as pd\n",
    "\n",
    "\n",
    "columns = ['Overall Qual', 'Overall Cond', 'Gr Liv Area',\n",
    "           'Central Air', 'Total Bsmt SF', 'SalePrice']\n",
    "\n",
    "df = pd.read_csv('http://jse.amstat.org/v19n3/decock/AmesHousing.txt', \n",
    "                 sep='\\t',\n",
    "                 usecols=columns)\n",
    "\n",
    "df.head()"
   ]
  },
  {
   "cell_type": "code",
   "execution_count": 2,
   "id": "610a88de",
   "metadata": {},
   "outputs": [],
   "source": [
    "df.to_csv(\"ames_housing.csv\", index = False)"
   ]
  },
  {
   "cell_type": "code",
   "execution_count": 3,
   "id": "1c3f790c",
   "metadata": {},
   "outputs": [
    {
     "name": "stdout",
     "output_type": "stream",
     "text": [
      "Requirement already satisfied: skimpy in c:\\users\\vineetha varma\\anaconda3\\lib\\site-packages (0.0.11)\n",
      "Requirement already satisfied: typeguard==4.1.4 in c:\\users\\vineetha varma\\anaconda3\\lib\\site-packages (from skimpy) (4.1.4)\n",
      "Requirement already satisfied: click<9.0.0,>=8.1.6 in c:\\users\\vineetha varma\\anaconda3\\lib\\site-packages (from skimpy) (8.1.7)\n",
      "Requirement already satisfied: pandas<3.0.0,>=2.0.3 in c:\\users\\vineetha varma\\anaconda3\\lib\\site-packages (from skimpy) (2.1.1)\n",
      "Requirement already satisfied: numpy<2.0.0,>=1.22.2 in c:\\users\\vineetha varma\\anaconda3\\lib\\site-packages (from skimpy) (1.23.5)\n",
      "Requirement already satisfied: pyarrow<14.0.0,>=13.0.0 in c:\\users\\vineetha varma\\anaconda3\\lib\\site-packages (from skimpy) (13.0.0)\n",
      "Requirement already satisfied: rich<14.0,>=10.9 in c:\\users\\vineetha varma\\anaconda3\\lib\\site-packages (from skimpy) (13.6.0)\n",
      "Requirement already satisfied: Pygments<3.0.0,>=2.10.0 in c:\\users\\vineetha varma\\anaconda3\\lib\\site-packages (from skimpy) (2.16.1)\n",
      "Requirement already satisfied: jupyter<2.0.0,>=1.0.0 in c:\\users\\vineetha varma\\anaconda3\\lib\\site-packages (from skimpy) (1.0.0)\n",
      "Requirement already satisfied: polars<0.20.0,>=0.19.0 in c:\\users\\vineetha varma\\anaconda3\\lib\\site-packages (from skimpy) (0.19.7)\n",
      "Requirement already satisfied: ipykernel<7.0.0,>=6.7.0 in c:\\users\\vineetha varma\\anaconda3\\lib\\site-packages (from skimpy) (6.19.2)\n",
      "Requirement already satisfied: typing-extensions>=4.7.0 in c:\\users\\vineetha varma\\anaconda3\\lib\\site-packages (from typeguard==4.1.4->skimpy) (4.8.0)\n",
      "Requirement already satisfied: colorama in c:\\users\\vineetha varma\\anaconda3\\lib\\site-packages (from click<9.0.0,>=8.1.6->skimpy) (0.4.6)\n",
      "Requirement already satisfied: nest-asyncio in c:\\users\\vineetha varma\\anaconda3\\lib\\site-packages (from ipykernel<7.0.0,>=6.7.0->skimpy) (1.5.6)\n",
      "Requirement already satisfied: traitlets>=5.4.0 in c:\\users\\vineetha varma\\anaconda3\\lib\\site-packages (from ipykernel<7.0.0,>=6.7.0->skimpy) (5.7.1)\n",
      "Requirement already satisfied: matplotlib-inline>=0.1 in c:\\users\\vineetha varma\\anaconda3\\lib\\site-packages (from ipykernel<7.0.0,>=6.7.0->skimpy) (0.1.6)\n",
      "Requirement already satisfied: psutil in c:\\users\\vineetha varma\\anaconda3\\lib\\site-packages (from ipykernel<7.0.0,>=6.7.0->skimpy) (5.9.0)\n",
      "Requirement already satisfied: debugpy>=1.0 in c:\\users\\vineetha varma\\anaconda3\\lib\\site-packages (from ipykernel<7.0.0,>=6.7.0->skimpy) (1.5.1)\n",
      "Requirement already satisfied: pyzmq>=17 in c:\\users\\vineetha varma\\anaconda3\\lib\\site-packages (from ipykernel<7.0.0,>=6.7.0->skimpy) (23.2.0)\n",
      "Requirement already satisfied: tornado>=6.1 in c:\\users\\vineetha varma\\anaconda3\\lib\\site-packages (from ipykernel<7.0.0,>=6.7.0->skimpy) (6.1)\n",
      "Requirement already satisfied: jupyter-client>=6.1.12 in c:\\users\\vineetha varma\\anaconda3\\lib\\site-packages (from ipykernel<7.0.0,>=6.7.0->skimpy) (7.3.4)\n",
      "Requirement already satisfied: comm>=0.1.1 in c:\\users\\vineetha varma\\anaconda3\\lib\\site-packages (from ipykernel<7.0.0,>=6.7.0->skimpy) (0.1.2)\n",
      "Requirement already satisfied: ipython>=7.23.1 in c:\\users\\vineetha varma\\anaconda3\\lib\\site-packages (from ipykernel<7.0.0,>=6.7.0->skimpy) (8.10.0)\n",
      "Requirement already satisfied: packaging in c:\\users\\vineetha varma\\anaconda3\\lib\\site-packages (from ipykernel<7.0.0,>=6.7.0->skimpy) (22.0)\n",
      "Requirement already satisfied: ipywidgets in c:\\users\\vineetha varma\\anaconda3\\lib\\site-packages (from jupyter<2.0.0,>=1.0.0->skimpy) (7.6.5)\n",
      "Requirement already satisfied: qtconsole in c:\\users\\vineetha varma\\anaconda3\\lib\\site-packages (from jupyter<2.0.0,>=1.0.0->skimpy) (5.4.0)\n",
      "Requirement already satisfied: jupyter-console in c:\\users\\vineetha varma\\anaconda3\\lib\\site-packages (from jupyter<2.0.0,>=1.0.0->skimpy) (6.6.2)\n",
      "Requirement already satisfied: notebook in c:\\users\\vineetha varma\\anaconda3\\lib\\site-packages (from jupyter<2.0.0,>=1.0.0->skimpy) (6.5.2)\n",
      "Requirement already satisfied: nbconvert in c:\\users\\vineetha varma\\anaconda3\\lib\\site-packages (from jupyter<2.0.0,>=1.0.0->skimpy) (6.5.4)\n",
      "Requirement already satisfied: pytz>=2020.1 in c:\\users\\vineetha varma\\anaconda3\\lib\\site-packages (from pandas<3.0.0,>=2.0.3->skimpy) (2022.7)\n",
      "Requirement already satisfied: tzdata>=2022.1 in c:\\users\\vineetha varma\\anaconda3\\lib\\site-packages (from pandas<3.0.0,>=2.0.3->skimpy) (2023.3)\n",
      "Requirement already satisfied: python-dateutil>=2.8.2 in c:\\users\\vineetha varma\\anaconda3\\lib\\site-packages (from pandas<3.0.0,>=2.0.3->skimpy) (2.8.2)\n",
      "Requirement already satisfied: markdown-it-py>=2.2.0 in c:\\users\\vineetha varma\\anaconda3\\lib\\site-packages (from rich<14.0,>=10.9->skimpy) (3.0.0)\n",
      "Requirement already satisfied: backcall in c:\\users\\vineetha varma\\anaconda3\\lib\\site-packages (from ipython>=7.23.1->ipykernel<7.0.0,>=6.7.0->skimpy) (0.2.0)\n",
      "Requirement already satisfied: jedi>=0.16 in c:\\users\\vineetha varma\\anaconda3\\lib\\site-packages (from ipython>=7.23.1->ipykernel<7.0.0,>=6.7.0->skimpy) (0.18.1)\n",
      "Requirement already satisfied: stack-data in c:\\users\\vineetha varma\\anaconda3\\lib\\site-packages (from ipython>=7.23.1->ipykernel<7.0.0,>=6.7.0->skimpy) (0.2.0)\n",
      "Requirement already satisfied: decorator in c:\\users\\vineetha varma\\anaconda3\\lib\\site-packages (from ipython>=7.23.1->ipykernel<7.0.0,>=6.7.0->skimpy) (5.1.1)\n",
      "Requirement already satisfied: pickleshare in c:\\users\\vineetha varma\\anaconda3\\lib\\site-packages (from ipython>=7.23.1->ipykernel<7.0.0,>=6.7.0->skimpy) (0.7.5)\n",
      "Requirement already satisfied: prompt-toolkit<3.1.0,>=3.0.30 in c:\\users\\vineetha varma\\anaconda3\\lib\\site-packages (from ipython>=7.23.1->ipykernel<7.0.0,>=6.7.0->skimpy) (3.0.36)\n",
      "Requirement already satisfied: jupyter-core>=4.9.2 in c:\\users\\vineetha varma\\anaconda3\\lib\\site-packages (from jupyter-client>=6.1.12->ipykernel<7.0.0,>=6.7.0->skimpy) (5.2.0)\n",
      "Requirement already satisfied: entrypoints in c:\\users\\vineetha varma\\anaconda3\\lib\\site-packages (from jupyter-client>=6.1.12->ipykernel<7.0.0,>=6.7.0->skimpy) (0.4)\n",
      "Requirement already satisfied: mdurl~=0.1 in c:\\users\\vineetha varma\\anaconda3\\lib\\site-packages (from markdown-it-py>=2.2.0->rich<14.0,>=10.9->skimpy) (0.1.2)\n",
      "Requirement already satisfied: six>=1.5 in c:\\users\\vineetha varma\\anaconda3\\lib\\site-packages (from python-dateutil>=2.8.2->pandas<3.0.0,>=2.0.3->skimpy) (1.16.0)\n",
      "Requirement already satisfied: widgetsnbextension~=3.5.0 in c:\\users\\vineetha varma\\anaconda3\\lib\\site-packages (from ipywidgets->jupyter<2.0.0,>=1.0.0->skimpy) (3.5.2)\n",
      "Requirement already satisfied: nbformat>=4.2.0 in c:\\users\\vineetha varma\\anaconda3\\lib\\site-packages (from ipywidgets->jupyter<2.0.0,>=1.0.0->skimpy) (5.7.0)\n",
      "Requirement already satisfied: ipython-genutils~=0.2.0 in c:\\users\\vineetha varma\\anaconda3\\lib\\site-packages (from ipywidgets->jupyter<2.0.0,>=1.0.0->skimpy) (0.2.0)\n",
      "Requirement already satisfied: jupyterlab-widgets>=1.0.0 in c:\\users\\vineetha varma\\anaconda3\\lib\\site-packages (from ipywidgets->jupyter<2.0.0,>=1.0.0->skimpy) (1.0.0)\n",
      "Requirement already satisfied: lxml in c:\\users\\vineetha varma\\anaconda3\\lib\\site-packages (from nbconvert->jupyter<2.0.0,>=1.0.0->skimpy) (4.9.1)\n",
      "Requirement already satisfied: mistune<2,>=0.8.1 in c:\\users\\vineetha varma\\anaconda3\\lib\\site-packages (from nbconvert->jupyter<2.0.0,>=1.0.0->skimpy) (0.8.4)\n",
      "Requirement already satisfied: bleach in c:\\users\\vineetha varma\\anaconda3\\lib\\site-packages (from nbconvert->jupyter<2.0.0,>=1.0.0->skimpy) (4.1.0)\n",
      "Requirement already satisfied: jinja2>=3.0 in c:\\users\\vineetha varma\\anaconda3\\lib\\site-packages (from nbconvert->jupyter<2.0.0,>=1.0.0->skimpy) (3.1.2)\n",
      "Requirement already satisfied: jupyterlab-pygments in c:\\users\\vineetha varma\\anaconda3\\lib\\site-packages (from nbconvert->jupyter<2.0.0,>=1.0.0->skimpy) (0.1.2)\n",
      "Requirement already satisfied: tinycss2 in c:\\users\\vineetha varma\\anaconda3\\lib\\site-packages (from nbconvert->jupyter<2.0.0,>=1.0.0->skimpy) (1.2.1)\n",
      "Requirement already satisfied: beautifulsoup4 in c:\\users\\vineetha varma\\anaconda3\\lib\\site-packages (from nbconvert->jupyter<2.0.0,>=1.0.0->skimpy) (4.11.1)\n",
      "Requirement already satisfied: pandocfilters>=1.4.1 in c:\\users\\vineetha varma\\anaconda3\\lib\\site-packages (from nbconvert->jupyter<2.0.0,>=1.0.0->skimpy) (1.5.0)\n",
      "Requirement already satisfied: nbclient>=0.5.0 in c:\\users\\vineetha varma\\anaconda3\\lib\\site-packages (from nbconvert->jupyter<2.0.0,>=1.0.0->skimpy) (0.5.13)\n",
      "Requirement already satisfied: MarkupSafe>=2.0 in c:\\users\\vineetha varma\\anaconda3\\lib\\site-packages (from nbconvert->jupyter<2.0.0,>=1.0.0->skimpy) (2.1.1)\n",
      "Requirement already satisfied: defusedxml in c:\\users\\vineetha varma\\anaconda3\\lib\\site-packages (from nbconvert->jupyter<2.0.0,>=1.0.0->skimpy) (0.7.1)\n",
      "Requirement already satisfied: nbclassic>=0.4.7 in c:\\users\\vineetha varma\\anaconda3\\lib\\site-packages (from notebook->jupyter<2.0.0,>=1.0.0->skimpy) (0.5.2)\n",
      "Requirement already satisfied: Send2Trash>=1.8.0 in c:\\users\\vineetha varma\\anaconda3\\lib\\site-packages (from notebook->jupyter<2.0.0,>=1.0.0->skimpy) (1.8.0)\n",
      "Requirement already satisfied: argon2-cffi in c:\\users\\vineetha varma\\anaconda3\\lib\\site-packages (from notebook->jupyter<2.0.0,>=1.0.0->skimpy) (21.3.0)\n",
      "Requirement already satisfied: terminado>=0.8.3 in c:\\users\\vineetha varma\\anaconda3\\lib\\site-packages (from notebook->jupyter<2.0.0,>=1.0.0->skimpy) (0.17.1)\n",
      "Requirement already satisfied: prometheus-client in c:\\users\\vineetha varma\\anaconda3\\lib\\site-packages (from notebook->jupyter<2.0.0,>=1.0.0->skimpy) (0.14.1)\n",
      "Requirement already satisfied: qtpy>=2.0.1 in c:\\users\\vineetha varma\\anaconda3\\lib\\site-packages (from qtconsole->jupyter<2.0.0,>=1.0.0->skimpy) (2.2.0)\n",
      "Requirement already satisfied: parso<0.9.0,>=0.8.0 in c:\\users\\vineetha varma\\anaconda3\\lib\\site-packages (from jedi>=0.16->ipython>=7.23.1->ipykernel<7.0.0,>=6.7.0->skimpy) (0.8.3)\n",
      "Requirement already satisfied: pywin32>=1.0 in c:\\users\\vineetha varma\\anaconda3\\lib\\site-packages (from jupyter-core>=4.9.2->jupyter-client>=6.1.12->ipykernel<7.0.0,>=6.7.0->skimpy) (305.1)\n",
      "Requirement already satisfied: platformdirs>=2.5 in c:\\users\\vineetha varma\\anaconda3\\lib\\site-packages (from jupyter-core>=4.9.2->jupyter-client>=6.1.12->ipykernel<7.0.0,>=6.7.0->skimpy) (2.5.2)\n",
      "Requirement already satisfied: notebook-shim>=0.1.0 in c:\\users\\vineetha varma\\anaconda3\\lib\\site-packages (from nbclassic>=0.4.7->notebook->jupyter<2.0.0,>=1.0.0->skimpy) (0.2.2)\n",
      "Requirement already satisfied: jupyter-server>=1.8 in c:\\users\\vineetha varma\\anaconda3\\lib\\site-packages (from nbclassic>=0.4.7->notebook->jupyter<2.0.0,>=1.0.0->skimpy) (1.23.4)\n",
      "Requirement already satisfied: jsonschema>=2.6 in c:\\users\\vineetha varma\\anaconda3\\lib\\site-packages (from nbformat>=4.2.0->ipywidgets->jupyter<2.0.0,>=1.0.0->skimpy) (4.17.3)\n",
      "Requirement already satisfied: fastjsonschema in c:\\users\\vineetha varma\\anaconda3\\lib\\site-packages (from nbformat>=4.2.0->ipywidgets->jupyter<2.0.0,>=1.0.0->skimpy) (2.16.2)\n",
      "Requirement already satisfied: wcwidth in c:\\users\\vineetha varma\\anaconda3\\lib\\site-packages (from prompt-toolkit<3.1.0,>=3.0.30->ipython>=7.23.1->ipykernel<7.0.0,>=6.7.0->skimpy) (0.2.5)\n",
      "Requirement already satisfied: pywinpty>=1.1.0 in c:\\users\\vineetha varma\\anaconda3\\lib\\site-packages (from terminado>=0.8.3->notebook->jupyter<2.0.0,>=1.0.0->skimpy) (2.0.10)\n",
      "Requirement already satisfied: argon2-cffi-bindings in c:\\users\\vineetha varma\\anaconda3\\lib\\site-packages (from argon2-cffi->notebook->jupyter<2.0.0,>=1.0.0->skimpy) (21.2.0)\n",
      "Requirement already satisfied: soupsieve>1.2 in c:\\users\\vineetha varma\\anaconda3\\lib\\site-packages (from beautifulsoup4->nbconvert->jupyter<2.0.0,>=1.0.0->skimpy) (2.3.2.post1)\n",
      "Requirement already satisfied: webencodings in c:\\users\\vineetha varma\\anaconda3\\lib\\site-packages (from bleach->nbconvert->jupyter<2.0.0,>=1.0.0->skimpy) (0.5.1)\n",
      "Requirement already satisfied: pure-eval in c:\\users\\vineetha varma\\anaconda3\\lib\\site-packages (from stack-data->ipython>=7.23.1->ipykernel<7.0.0,>=6.7.0->skimpy) (0.2.2)\n",
      "Requirement already satisfied: executing in c:\\users\\vineetha varma\\anaconda3\\lib\\site-packages (from stack-data->ipython>=7.23.1->ipykernel<7.0.0,>=6.7.0->skimpy) (0.8.3)\n",
      "Requirement already satisfied: asttokens in c:\\users\\vineetha varma\\anaconda3\\lib\\site-packages (from stack-data->ipython>=7.23.1->ipykernel<7.0.0,>=6.7.0->skimpy) (2.0.5)\n",
      "Requirement already satisfied: attrs>=17.4.0 in c:\\users\\vineetha varma\\anaconda3\\lib\\site-packages (from jsonschema>=2.6->nbformat>=4.2.0->ipywidgets->jupyter<2.0.0,>=1.0.0->skimpy) (22.1.0)\n",
      "Requirement already satisfied: pyrsistent!=0.17.0,!=0.17.1,!=0.17.2,>=0.14.0 in c:\\users\\vineetha varma\\anaconda3\\lib\\site-packages (from jsonschema>=2.6->nbformat>=4.2.0->ipywidgets->jupyter<2.0.0,>=1.0.0->skimpy) (0.18.0)\n",
      "Requirement already satisfied: anyio<4,>=3.1.0 in c:\\users\\vineetha varma\\anaconda3\\lib\\site-packages (from jupyter-server>=1.8->nbclassic>=0.4.7->notebook->jupyter<2.0.0,>=1.0.0->skimpy) (3.5.0)\n",
      "Requirement already satisfied: websocket-client in c:\\users\\vineetha varma\\anaconda3\\lib\\site-packages (from jupyter-server>=1.8->nbclassic>=0.4.7->notebook->jupyter<2.0.0,>=1.0.0->skimpy) (0.58.0)\n",
      "Requirement already satisfied: cffi>=1.0.1 in c:\\users\\vineetha varma\\anaconda3\\lib\\site-packages (from argon2-cffi-bindings->argon2-cffi->notebook->jupyter<2.0.0,>=1.0.0->skimpy) (1.15.1)\n",
      "Requirement already satisfied: idna>=2.8 in c:\\users\\vineetha varma\\anaconda3\\lib\\site-packages (from anyio<4,>=3.1.0->jupyter-server>=1.8->nbclassic>=0.4.7->notebook->jupyter<2.0.0,>=1.0.0->skimpy) (3.4)\n",
      "Requirement already satisfied: sniffio>=1.1 in c:\\users\\vineetha varma\\anaconda3\\lib\\site-packages (from anyio<4,>=3.1.0->jupyter-server>=1.8->nbclassic>=0.4.7->notebook->jupyter<2.0.0,>=1.0.0->skimpy) (1.2.0)\n",
      "Requirement already satisfied: pycparser in c:\\users\\vineetha varma\\anaconda3\\lib\\site-packages (from cffi>=1.0.1->argon2-cffi-bindings->argon2-cffi->notebook->jupyter<2.0.0,>=1.0.0->skimpy) (2.21)\n"
     ]
    },
    {
     "name": "stderr",
     "output_type": "stream",
     "text": [
      "WARNING: Ignoring invalid distribution -andas (c:\\users\\vineetha varma\\anaconda3\\lib\\site-packages)\n",
      "WARNING: Ignoring invalid distribution -andas (c:\\users\\vineetha varma\\anaconda3\\lib\\site-packages)\n",
      "WARNING: Ignoring invalid distribution -andas (c:\\users\\vineetha varma\\anaconda3\\lib\\site-packages)\n",
      "WARNING: Ignoring invalid distribution -andas (c:\\users\\vineetha varma\\anaconda3\\lib\\site-packages)\n",
      "WARNING: Ignoring invalid distribution -andas (c:\\users\\vineetha varma\\anaconda3\\lib\\site-packages)\n",
      "WARNING: Ignoring invalid distribution -andas (c:\\users\\vineetha varma\\anaconda3\\lib\\site-packages)\n"
     ]
    }
   ],
   "source": [
    "!pip install skimpy"
   ]
  },
  {
   "cell_type": "code",
   "execution_count": 4,
   "id": "10b543af",
   "metadata": {},
   "outputs": [
    {
     "data": {
      "text/html": [
       "<pre style=\"white-space:pre;overflow-x:auto;line-height:normal;font-family:Menlo,'DejaVu Sans Mono',consolas,'Courier New',monospace\">╭──────────────────────────────────────────────── skimpy summary ─────────────────────────────────────────────────╮\n",
       "│ <span style=\"font-style: italic\">         Data Summary         </span> <span style=\"font-style: italic\">      Data Types       </span>                                                          │\n",
       "│ ┏━━━━━━━━━━━━━━━━━━━┳━━━━━━━━┓ ┏━━━━━━━━━━━━━┳━━━━━━━┓                                                          │\n",
       "│ ┃<span style=\"color: #008080; text-decoration-color: #008080; font-weight: bold\"> dataframe         </span>┃<span style=\"color: #008080; text-decoration-color: #008080; font-weight: bold\"> Values </span>┃ ┃<span style=\"color: #008080; text-decoration-color: #008080; font-weight: bold\"> Column Type </span>┃<span style=\"color: #008080; text-decoration-color: #008080; font-weight: bold\"> Count </span>┃                                                          │\n",
       "│ ┡━━━━━━━━━━━━━━━━━━━╇━━━━━━━━┩ ┡━━━━━━━━━━━━━╇━━━━━━━┩                                                          │\n",
       "│ │ Number of rows    │ 2930   │ │ int32       │ 4     │                                                          │\n",
       "│ │ Number of columns │ 6      │ │ float64     │ 1     │                                                          │\n",
       "│ └───────────────────┴────────┘ │ string      │ 1     │                                                          │\n",
       "│                                └─────────────┴───────┘                                                          │\n",
       "│ <span style=\"font-style: italic\">                                                    number                                                    </span>  │\n",
       "│ ┏━━━━━━━━━━━━━━━━━┳━━━━━┳━━━━━━━┳━━━━━━━━━┳━━━━━━━━┳━━━━━━━━┳━━━━━━━━━┳━━━━━━━━━┳━━━━━━━━━┳━━━━━━━━━┳━━━━━━━━┓  │\n",
       "│ ┃<span style=\"font-weight: bold\"> column_name     </span>┃<span style=\"font-weight: bold\"> NA  </span>┃<span style=\"font-weight: bold\"> NA %  </span>┃<span style=\"font-weight: bold\"> mean    </span>┃<span style=\"font-weight: bold\"> sd     </span>┃<span style=\"font-weight: bold\"> p0     </span>┃<span style=\"font-weight: bold\"> p25     </span>┃<span style=\"font-weight: bold\"> p50     </span>┃<span style=\"font-weight: bold\"> p75     </span>┃<span style=\"font-weight: bold\"> p100    </span>┃<span style=\"font-weight: bold\"> hist   </span>┃  │\n",
       "│ ┡━━━━━━━━━━━━━━━━━╇━━━━━╇━━━━━━━╇━━━━━━━━━╇━━━━━━━━╇━━━━━━━━╇━━━━━━━━━╇━━━━━━━━━╇━━━━━━━━━╇━━━━━━━━━╇━━━━━━━━┩  │\n",
       "│ │ <span style=\"color: #af87ff; text-decoration-color: #af87ff\">Overall Qual   </span> │ <span style=\"color: #008080; text-decoration-color: #008080\">  0</span> │ <span style=\"color: #008080; text-decoration-color: #008080\">    0</span> │ <span style=\"color: #008080; text-decoration-color: #008080\">    6.1</span> │ <span style=\"color: #008080; text-decoration-color: #008080\">   1.4</span> │ <span style=\"color: #008080; text-decoration-color: #008080\">     1</span> │ <span style=\"color: #008080; text-decoration-color: #008080\">      5</span> │ <span style=\"color: #008080; text-decoration-color: #008080\">      6</span> │ <span style=\"color: #008080; text-decoration-color: #008080\">      7</span> │ <span style=\"color: #008080; text-decoration-color: #008080\">     10</span> │ <span style=\"color: #008000; text-decoration-color: #008000\">  ▇▆▇▁</span> │  │\n",
       "│ │ <span style=\"color: #af87ff; text-decoration-color: #af87ff\">Overall Cond   </span> │ <span style=\"color: #008080; text-decoration-color: #008080\">  0</span> │ <span style=\"color: #008080; text-decoration-color: #008080\">    0</span> │ <span style=\"color: #008080; text-decoration-color: #008080\">    5.6</span> │ <span style=\"color: #008080; text-decoration-color: #008080\">   1.1</span> │ <span style=\"color: #008080; text-decoration-color: #008080\">     1</span> │ <span style=\"color: #008080; text-decoration-color: #008080\">      5</span> │ <span style=\"color: #008080; text-decoration-color: #008080\">      5</span> │ <span style=\"color: #008080; text-decoration-color: #008080\">      6</span> │ <span style=\"color: #008080; text-decoration-color: #008080\">      9</span> │ <span style=\"color: #008000; text-decoration-color: #008000\">   ▇▁▁</span> │  │\n",
       "│ │ <span style=\"color: #af87ff; text-decoration-color: #af87ff\">Total Bsmt SF  </span> │ <span style=\"color: #008080; text-decoration-color: #008080\">  1</span> │ <span style=\"color: #008080; text-decoration-color: #008080\"> 0.03</span> │ <span style=\"color: #008080; text-decoration-color: #008080\">   1100</span> │ <span style=\"color: #008080; text-decoration-color: #008080\">   440</span> │ <span style=\"color: #008080; text-decoration-color: #008080\">     0</span> │ <span style=\"color: #008080; text-decoration-color: #008080\">    790</span> │ <span style=\"color: #008080; text-decoration-color: #008080\">    990</span> │ <span style=\"color: #008080; text-decoration-color: #008080\">   1300</span> │ <span style=\"color: #008080; text-decoration-color: #008080\">   6100</span> │ <span style=\"color: #008000; text-decoration-color: #008000\">  ▇▇  </span> │  │\n",
       "│ │ <span style=\"color: #af87ff; text-decoration-color: #af87ff\">Gr Liv Area    </span> │ <span style=\"color: #008080; text-decoration-color: #008080\">  0</span> │ <span style=\"color: #008080; text-decoration-color: #008080\">    0</span> │ <span style=\"color: #008080; text-decoration-color: #008080\">   1500</span> │ <span style=\"color: #008080; text-decoration-color: #008080\">   510</span> │ <span style=\"color: #008080; text-decoration-color: #008080\">   330</span> │ <span style=\"color: #008080; text-decoration-color: #008080\">   1100</span> │ <span style=\"color: #008080; text-decoration-color: #008080\">   1400</span> │ <span style=\"color: #008080; text-decoration-color: #008080\">   1700</span> │ <span style=\"color: #008080; text-decoration-color: #008080\">   5600</span> │ <span style=\"color: #008000; text-decoration-color: #008000\"> ▅▇▁  </span> │  │\n",
       "│ │ <span style=\"color: #af87ff; text-decoration-color: #af87ff\">SalePrice      </span> │ <span style=\"color: #008080; text-decoration-color: #008080\">  0</span> │ <span style=\"color: #008080; text-decoration-color: #008080\">    0</span> │ <span style=\"color: #008080; text-decoration-color: #008080\"> 180000</span> │ <span style=\"color: #008080; text-decoration-color: #008080\"> 80000</span> │ <span style=\"color: #008080; text-decoration-color: #008080\"> 13000</span> │ <span style=\"color: #008080; text-decoration-color: #008080\"> 130000</span> │ <span style=\"color: #008080; text-decoration-color: #008080\"> 160000</span> │ <span style=\"color: #008080; text-decoration-color: #008080\"> 210000</span> │ <span style=\"color: #008080; text-decoration-color: #008080\"> 760000</span> │ <span style=\"color: #008000; text-decoration-color: #008000\"> ▅▇▁  </span> │  │\n",
       "│ └─────────────────┴─────┴───────┴─────────┴────────┴────────┴─────────┴─────────┴─────────┴─────────┴────────┘  │\n",
       "│ <span style=\"font-style: italic\">                                                    string                                                    </span>  │\n",
       "│ ┏━━━━━━━━━━━━━━━━━━━━━━━━━━━┳━━━━━━━━━┳━━━━━━━━━━━━┳━━━━━━━━━━━━━━━━━━━━━━━━━━━━━━┳━━━━━━━━━━━━━━━━━━━━━━━━━━┓  │\n",
       "│ ┃<span style=\"font-weight: bold\"> column_name               </span>┃<span style=\"font-weight: bold\"> NA      </span>┃<span style=\"font-weight: bold\"> NA %       </span>┃<span style=\"font-weight: bold\"> words per row                </span>┃<span style=\"font-weight: bold\"> total words              </span>┃  │\n",
       "│ ┡━━━━━━━━━━━━━━━━━━━━━━━━━━━╇━━━━━━━━━╇━━━━━━━━━━━━╇━━━━━━━━━━━━━━━━━━━━━━━━━━━━━━╇━━━━━━━━━━━━━━━━━━━━━━━━━━┩  │\n",
       "│ │ <span style=\"color: #af87ff; text-decoration-color: #af87ff\">Central Air              </span> │ <span style=\"color: #008080; text-decoration-color: #008080\">      0</span> │ <span style=\"color: #008080; text-decoration-color: #008080\">         0</span> │ <span style=\"color: #008080; text-decoration-color: #008080\">                           1</span> │ <span style=\"color: #008080; text-decoration-color: #008080\">                    2930</span> │  │\n",
       "│ └───────────────────────────┴─────────┴────────────┴──────────────────────────────┴──────────────────────────┘  │\n",
       "╰────────────────────────────────────────────────────── End ──────────────────────────────────────────────────────╯\n",
       "</pre>\n"
      ],
      "text/plain": [
       "╭──────────────────────────────────────────────── skimpy summary ─────────────────────────────────────────────────╮\n",
       "│ \u001b[3m         Data Summary         \u001b[0m \u001b[3m      Data Types       \u001b[0m                                                          │\n",
       "│ ┏━━━━━━━━━━━━━━━━━━━┳━━━━━━━━┓ ┏━━━━━━━━━━━━━┳━━━━━━━┓                                                          │\n",
       "│ ┃\u001b[1;36m \u001b[0m\u001b[1;36mdataframe        \u001b[0m\u001b[1;36m \u001b[0m┃\u001b[1;36m \u001b[0m\u001b[1;36mValues\u001b[0m\u001b[1;36m \u001b[0m┃ ┃\u001b[1;36m \u001b[0m\u001b[1;36mColumn Type\u001b[0m\u001b[1;36m \u001b[0m┃\u001b[1;36m \u001b[0m\u001b[1;36mCount\u001b[0m\u001b[1;36m \u001b[0m┃                                                          │\n",
       "│ ┡━━━━━━━━━━━━━━━━━━━╇━━━━━━━━┩ ┡━━━━━━━━━━━━━╇━━━━━━━┩                                                          │\n",
       "│ │ Number of rows    │ 2930   │ │ int32       │ 4     │                                                          │\n",
       "│ │ Number of columns │ 6      │ │ float64     │ 1     │                                                          │\n",
       "│ └───────────────────┴────────┘ │ string      │ 1     │                                                          │\n",
       "│                                └─────────────┴───────┘                                                          │\n",
       "│ \u001b[3m                                                    number                                                    \u001b[0m  │\n",
       "│ ┏━━━━━━━━━━━━━━━━━┳━━━━━┳━━━━━━━┳━━━━━━━━━┳━━━━━━━━┳━━━━━━━━┳━━━━━━━━━┳━━━━━━━━━┳━━━━━━━━━┳━━━━━━━━━┳━━━━━━━━┓  │\n",
       "│ ┃\u001b[1m \u001b[0m\u001b[1mcolumn_name    \u001b[0m\u001b[1m \u001b[0m┃\u001b[1m \u001b[0m\u001b[1mNA \u001b[0m\u001b[1m \u001b[0m┃\u001b[1m \u001b[0m\u001b[1mNA % \u001b[0m\u001b[1m \u001b[0m┃\u001b[1m \u001b[0m\u001b[1mmean   \u001b[0m\u001b[1m \u001b[0m┃\u001b[1m \u001b[0m\u001b[1msd    \u001b[0m\u001b[1m \u001b[0m┃\u001b[1m \u001b[0m\u001b[1mp0    \u001b[0m\u001b[1m \u001b[0m┃\u001b[1m \u001b[0m\u001b[1mp25    \u001b[0m\u001b[1m \u001b[0m┃\u001b[1m \u001b[0m\u001b[1mp50    \u001b[0m\u001b[1m \u001b[0m┃\u001b[1m \u001b[0m\u001b[1mp75    \u001b[0m\u001b[1m \u001b[0m┃\u001b[1m \u001b[0m\u001b[1mp100   \u001b[0m\u001b[1m \u001b[0m┃\u001b[1m \u001b[0m\u001b[1mhist  \u001b[0m\u001b[1m \u001b[0m┃  │\n",
       "│ ┡━━━━━━━━━━━━━━━━━╇━━━━━╇━━━━━━━╇━━━━━━━━━╇━━━━━━━━╇━━━━━━━━╇━━━━━━━━━╇━━━━━━━━━╇━━━━━━━━━╇━━━━━━━━━╇━━━━━━━━┩  │\n",
       "│ │ \u001b[38;5;141mOverall Qual   \u001b[0m │ \u001b[36m  0\u001b[0m │ \u001b[36m    0\u001b[0m │ \u001b[36m    6.1\u001b[0m │ \u001b[36m   1.4\u001b[0m │ \u001b[36m     1\u001b[0m │ \u001b[36m      5\u001b[0m │ \u001b[36m      6\u001b[0m │ \u001b[36m      7\u001b[0m │ \u001b[36m     10\u001b[0m │ \u001b[32m  ▇▆▇▁\u001b[0m │  │\n",
       "│ │ \u001b[38;5;141mOverall Cond   \u001b[0m │ \u001b[36m  0\u001b[0m │ \u001b[36m    0\u001b[0m │ \u001b[36m    5.6\u001b[0m │ \u001b[36m   1.1\u001b[0m │ \u001b[36m     1\u001b[0m │ \u001b[36m      5\u001b[0m │ \u001b[36m      5\u001b[0m │ \u001b[36m      6\u001b[0m │ \u001b[36m      9\u001b[0m │ \u001b[32m   ▇▁▁\u001b[0m │  │\n",
       "│ │ \u001b[38;5;141mTotal Bsmt SF  \u001b[0m │ \u001b[36m  1\u001b[0m │ \u001b[36m 0.03\u001b[0m │ \u001b[36m   1100\u001b[0m │ \u001b[36m   440\u001b[0m │ \u001b[36m     0\u001b[0m │ \u001b[36m    790\u001b[0m │ \u001b[36m    990\u001b[0m │ \u001b[36m   1300\u001b[0m │ \u001b[36m   6100\u001b[0m │ \u001b[32m  ▇▇  \u001b[0m │  │\n",
       "│ │ \u001b[38;5;141mGr Liv Area    \u001b[0m │ \u001b[36m  0\u001b[0m │ \u001b[36m    0\u001b[0m │ \u001b[36m   1500\u001b[0m │ \u001b[36m   510\u001b[0m │ \u001b[36m   330\u001b[0m │ \u001b[36m   1100\u001b[0m │ \u001b[36m   1400\u001b[0m │ \u001b[36m   1700\u001b[0m │ \u001b[36m   5600\u001b[0m │ \u001b[32m ▅▇▁  \u001b[0m │  │\n",
       "│ │ \u001b[38;5;141mSalePrice      \u001b[0m │ \u001b[36m  0\u001b[0m │ \u001b[36m    0\u001b[0m │ \u001b[36m 180000\u001b[0m │ \u001b[36m 80000\u001b[0m │ \u001b[36m 13000\u001b[0m │ \u001b[36m 130000\u001b[0m │ \u001b[36m 160000\u001b[0m │ \u001b[36m 210000\u001b[0m │ \u001b[36m 760000\u001b[0m │ \u001b[32m ▅▇▁  \u001b[0m │  │\n",
       "│ └─────────────────┴─────┴───────┴─────────┴────────┴────────┴─────────┴─────────┴─────────┴─────────┴────────┘  │\n",
       "│ \u001b[3m                                                    string                                                    \u001b[0m  │\n",
       "│ ┏━━━━━━━━━━━━━━━━━━━━━━━━━━━┳━━━━━━━━━┳━━━━━━━━━━━━┳━━━━━━━━━━━━━━━━━━━━━━━━━━━━━━┳━━━━━━━━━━━━━━━━━━━━━━━━━━┓  │\n",
       "│ ┃\u001b[1m \u001b[0m\u001b[1mcolumn_name              \u001b[0m\u001b[1m \u001b[0m┃\u001b[1m \u001b[0m\u001b[1mNA     \u001b[0m\u001b[1m \u001b[0m┃\u001b[1m \u001b[0m\u001b[1mNA %      \u001b[0m\u001b[1m \u001b[0m┃\u001b[1m \u001b[0m\u001b[1mwords per row               \u001b[0m\u001b[1m \u001b[0m┃\u001b[1m \u001b[0m\u001b[1mtotal words             \u001b[0m\u001b[1m \u001b[0m┃  │\n",
       "│ ┡━━━━━━━━━━━━━━━━━━━━━━━━━━━╇━━━━━━━━━╇━━━━━━━━━━━━╇━━━━━━━━━━━━━━━━━━━━━━━━━━━━━━╇━━━━━━━━━━━━━━━━━━━━━━━━━━┩  │\n",
       "│ │ \u001b[38;5;141mCentral Air              \u001b[0m │ \u001b[36m      0\u001b[0m │ \u001b[36m         0\u001b[0m │ \u001b[36m                           1\u001b[0m │ \u001b[36m                    2930\u001b[0m │  │\n",
       "│ └───────────────────────────┴─────────┴────────────┴──────────────────────────────┴──────────────────────────┘  │\n",
       "╰────────────────────────────────────────────────────── End ──────────────────────────────────────────────────────╯\n"
      ]
     },
     "metadata": {},
     "output_type": "display_data"
    }
   ],
   "source": [
    "from skimpy import skim\n",
    "skim(df)"
   ]
  },
  {
   "cell_type": "code",
   "execution_count": 5,
   "id": "de7d5128",
   "metadata": {},
   "outputs": [
    {
     "name": "stdout",
     "output_type": "stream",
     "text": [
      "Requirement already satisfied: summarytools in c:\\users\\vineetha varma\\anaconda3\\lib\\site-packages (0.2.3)\n",
      "Requirement already satisfied: matplotlib>=3.3.0 in c:\\users\\vineetha varma\\anaconda3\\lib\\site-packages (from summarytools) (3.7.0)\n",
      "Requirement already satisfied: pandas>=1.4.0 in c:\\users\\vineetha varma\\anaconda3\\lib\\site-packages (from summarytools) (2.1.1)\n",
      "Requirement already satisfied: numpy>=1.18.5 in c:\\users\\vineetha varma\\anaconda3\\lib\\site-packages (from summarytools) (1.23.5)\n",
      "Requirement already satisfied: ipython>=7.20.0 in c:\\users\\vineetha varma\\anaconda3\\lib\\site-packages (from summarytools) (8.10.0)\n",
      "Requirement already satisfied: stack-data in c:\\users\\vineetha varma\\anaconda3\\lib\\site-packages (from ipython>=7.20.0->summarytools) (0.2.0)\n",
      "Requirement already satisfied: matplotlib-inline in c:\\users\\vineetha varma\\anaconda3\\lib\\site-packages (from ipython>=7.20.0->summarytools) (0.1.6)\n",
      "Requirement already satisfied: colorama in c:\\users\\vineetha varma\\anaconda3\\lib\\site-packages (from ipython>=7.20.0->summarytools) (0.4.6)\n",
      "Requirement already satisfied: traitlets>=5 in c:\\users\\vineetha varma\\anaconda3\\lib\\site-packages (from ipython>=7.20.0->summarytools) (5.7.1)\n",
      "Requirement already satisfied: jedi>=0.16 in c:\\users\\vineetha varma\\anaconda3\\lib\\site-packages (from ipython>=7.20.0->summarytools) (0.18.1)\n",
      "Requirement already satisfied: pygments>=2.4.0 in c:\\users\\vineetha varma\\anaconda3\\lib\\site-packages (from ipython>=7.20.0->summarytools) (2.16.1)\n",
      "Requirement already satisfied: decorator in c:\\users\\vineetha varma\\anaconda3\\lib\\site-packages (from ipython>=7.20.0->summarytools) (5.1.1)\n",
      "Requirement already satisfied: pickleshare in c:\\users\\vineetha varma\\anaconda3\\lib\\site-packages (from ipython>=7.20.0->summarytools) (0.7.5)\n",
      "Requirement already satisfied: backcall in c:\\users\\vineetha varma\\anaconda3\\lib\\site-packages (from ipython>=7.20.0->summarytools) (0.2.0)\n",
      "Requirement already satisfied: prompt-toolkit<3.1.0,>=3.0.30 in c:\\users\\vineetha varma\\anaconda3\\lib\\site-packages (from ipython>=7.20.0->summarytools) (3.0.36)\n",
      "Requirement already satisfied: kiwisolver>=1.0.1 in c:\\users\\vineetha varma\\anaconda3\\lib\\site-packages (from matplotlib>=3.3.0->summarytools) (1.4.4)\n",
      "Requirement already satisfied: packaging>=20.0 in c:\\users\\vineetha varma\\anaconda3\\lib\\site-packages (from matplotlib>=3.3.0->summarytools) (22.0)\n",
      "Requirement already satisfied: pyparsing>=2.3.1 in c:\\users\\vineetha varma\\anaconda3\\lib\\site-packages (from matplotlib>=3.3.0->summarytools) (3.0.9)\n",
      "Requirement already satisfied: python-dateutil>=2.7 in c:\\users\\vineetha varma\\anaconda3\\lib\\site-packages (from matplotlib>=3.3.0->summarytools) (2.8.2)\n",
      "Requirement already satisfied: contourpy>=1.0.1 in c:\\users\\vineetha varma\\anaconda3\\lib\\site-packages (from matplotlib>=3.3.0->summarytools) (1.0.5)\n",
      "Requirement already satisfied: fonttools>=4.22.0 in c:\\users\\vineetha varma\\anaconda3\\lib\\site-packages (from matplotlib>=3.3.0->summarytools) (4.25.0)\n",
      "Requirement already satisfied: pillow>=6.2.0 in c:\\users\\vineetha varma\\anaconda3\\lib\\site-packages (from matplotlib>=3.3.0->summarytools) (9.4.0)\n",
      "Requirement already satisfied: cycler>=0.10 in c:\\users\\vineetha varma\\anaconda3\\lib\\site-packages (from matplotlib>=3.3.0->summarytools) (0.11.0)\n",
      "Requirement already satisfied: pytz>=2020.1 in c:\\users\\vineetha varma\\anaconda3\\lib\\site-packages (from pandas>=1.4.0->summarytools) (2022.7)\n",
      "Requirement already satisfied: tzdata>=2022.1 in c:\\users\\vineetha varma\\anaconda3\\lib\\site-packages (from pandas>=1.4.0->summarytools) (2023.3)\n",
      "Requirement already satisfied: parso<0.9.0,>=0.8.0 in c:\\users\\vineetha varma\\anaconda3\\lib\\site-packages (from jedi>=0.16->ipython>=7.20.0->summarytools) (0.8.3)\n",
      "Requirement already satisfied: wcwidth in c:\\users\\vineetha varma\\anaconda3\\lib\\site-packages (from prompt-toolkit<3.1.0,>=3.0.30->ipython>=7.20.0->summarytools) (0.2.5)\n",
      "Requirement already satisfied: six>=1.5 in c:\\users\\vineetha varma\\anaconda3\\lib\\site-packages (from python-dateutil>=2.7->matplotlib>=3.3.0->summarytools) (1.16.0)\n",
      "Requirement already satisfied: executing in c:\\users\\vineetha varma\\anaconda3\\lib\\site-packages (from stack-data->ipython>=7.20.0->summarytools) (0.8.3)\n",
      "Requirement already satisfied: pure-eval in c:\\users\\vineetha varma\\anaconda3\\lib\\site-packages (from stack-data->ipython>=7.20.0->summarytools) (0.2.2)\n",
      "Requirement already satisfied: asttokens in c:\\users\\vineetha varma\\anaconda3\\lib\\site-packages (from stack-data->ipython>=7.20.0->summarytools) (2.0.5)\n"
     ]
    },
    {
     "name": "stderr",
     "output_type": "stream",
     "text": [
      "WARNING: Ignoring invalid distribution -andas (c:\\users\\vineetha varma\\anaconda3\\lib\\site-packages)\n",
      "WARNING: Ignoring invalid distribution -andas (c:\\users\\vineetha varma\\anaconda3\\lib\\site-packages)\n",
      "WARNING: Ignoring invalid distribution -andas (c:\\users\\vineetha varma\\anaconda3\\lib\\site-packages)\n",
      "WARNING: Ignoring invalid distribution -andas (c:\\users\\vineetha varma\\anaconda3\\lib\\site-packages)\n",
      "WARNING: Ignoring invalid distribution -andas (c:\\users\\vineetha varma\\anaconda3\\lib\\site-packages)\n",
      "WARNING: Ignoring invalid distribution -andas (c:\\users\\vineetha varma\\anaconda3\\lib\\site-packages)\n"
     ]
    }
   ],
   "source": [
    "!pip install summarytools"
   ]
  },
  {
   "cell_type": "code",
   "execution_count": 6,
   "id": "af1f3744",
   "metadata": {},
   "outputs": [],
   "source": [
    "from summarytools import dfSummary"
   ]
  },
  {
   "cell_type": "code",
   "execution_count": 7,
   "id": "d5e229b7",
   "metadata": {},
   "outputs": [
    {
     "data": {
      "text/html": [
       "<style type=\"text/css\">\n",
       "#T_f4dc4 thead>tr>th {\n",
       "  text-align: left;\n",
       "}\n",
       "#T_f4dc4_row0_col0, #T_f4dc4_row1_col0, #T_f4dc4_row2_col0, #T_f4dc4_row3_col0, #T_f4dc4_row4_col0, #T_f4dc4_row5_col0 {\n",
       "  text-align: left;\n",
       "  font-size: 12px;\n",
       "  vertical-align: middle;\n",
       "  width: 5%;\n",
       "  max-width: 50px;\n",
       "  min-width: 20px;\n",
       "}\n",
       "#T_f4dc4_row0_col1, #T_f4dc4_row1_col1, #T_f4dc4_row2_col1, #T_f4dc4_row3_col1, #T_f4dc4_row4_col1, #T_f4dc4_row5_col1 {\n",
       "  text-align: left;\n",
       "  font-size: 12px;\n",
       "  vertical-align: middle;\n",
       "  width: 15%;\n",
       "  max-width: 200px;\n",
       "  min-width: 100px;\n",
       "  word-break: break-word;\n",
       "}\n",
       "#T_f4dc4_row0_col2, #T_f4dc4_row1_col2, #T_f4dc4_row2_col2, #T_f4dc4_row3_col2, #T_f4dc4_row4_col2, #T_f4dc4_row5_col2 {\n",
       "  text-align: left;\n",
       "  font-size: 12px;\n",
       "  vertical-align: middle;\n",
       "  width: 30%;\n",
       "  min-width: 100px;\n",
       "}\n",
       "#T_f4dc4_row0_col3, #T_f4dc4_row1_col3, #T_f4dc4_row2_col3, #T_f4dc4_row3_col3, #T_f4dc4_row4_col3, #T_f4dc4_row5_col3 {\n",
       "  text-align: left;\n",
       "  font-size: 12px;\n",
       "  vertical-align: middle;\n",
       "  width: 25%;\n",
       "  min-width: 100px;\n",
       "}\n",
       "#T_f4dc4_row0_col4, #T_f4dc4_row1_col4, #T_f4dc4_row2_col4, #T_f4dc4_row3_col4, #T_f4dc4_row4_col4, #T_f4dc4_row5_col4 {\n",
       "  text-align: left;\n",
       "  font-size: 12px;\n",
       "  vertical-align: middle;\n",
       "  width: 20%;\n",
       "  min-width: 150px;\n",
       "}\n",
       "#T_f4dc4_row0_col5, #T_f4dc4_row1_col5, #T_f4dc4_row2_col5, #T_f4dc4_row3_col5, #T_f4dc4_row4_col5, #T_f4dc4_row5_col5 {\n",
       "  text-align: left;\n",
       "  font-size: 12px;\n",
       "  vertical-align: middle;\n",
       "  width: 10%;\n",
       "}\n",
       "</style>\n",
       "<table id=\"T_f4dc4\">\n",
       "  <caption><strong>Data Frame Summary</strong><br>df<br>Dimensions: 2,930 x 6<br>Duplicates: 10</caption>\n",
       "  <thead>\n",
       "    <tr>\n",
       "      <th id=\"T_f4dc4_level0_col0\" class=\"col_heading level0 col0\" >No</th>\n",
       "      <th id=\"T_f4dc4_level0_col1\" class=\"col_heading level0 col1\" >Variable</th>\n",
       "      <th id=\"T_f4dc4_level0_col2\" class=\"col_heading level0 col2\" >Stats / Values</th>\n",
       "      <th id=\"T_f4dc4_level0_col3\" class=\"col_heading level0 col3\" >Freqs / (% of Valid)</th>\n",
       "      <th id=\"T_f4dc4_level0_col4\" class=\"col_heading level0 col4\" >Graph</th>\n",
       "      <th id=\"T_f4dc4_level0_col5\" class=\"col_heading level0 col5\" >Missing</th>\n",
       "    </tr>\n",
       "  </thead>\n",
       "  <tbody>\n",
       "    <tr>\n",
       "      <td id=\"T_f4dc4_row0_col0\" class=\"data row0 col0\" >1</td>\n",
       "      <td id=\"T_f4dc4_row0_col1\" class=\"data row0 col1\" ><strong>Overall Qual</strong><br>[int64]</td>\n",
       "      <td id=\"T_f4dc4_row0_col2\" class=\"data row0 col2\" >Mean (sd) : 6.1 (1.4)<br>min < med < max:<br>1.0 < 6.0 < 10.0<br>IQR (CV) : 2.0 (4.3)</td>\n",
       "      <td id=\"T_f4dc4_row0_col3\" class=\"data row0 col3\" >10 distinct values</td>\n",
       "      <td id=\"T_f4dc4_row0_col4\" class=\"data row0 col4\" ><img src = \"data:image/png;base64, iVBORw0KGgoAAAANSUhEUgAAAKoAAABGCAYAAABc8A97AAAAOXRFWHRTb2Z0d2FyZQBNYXRwbG90bGliIHZlcnNpb24zLjcuMCwgaHR0cHM6Ly9tYXRwbG90bGliLm9yZy88F64QAAAACXBIWXMAAA9hAAAPYQGoP6dpAAACnUlEQVR4nO3dvaoaQRiA4W/i0aw/zLAK2nkDgRSW26c9F5tLSGGR2juwE0QUjYvrumlCIOBJsn/H+cb36QeneDmH+WHWFEUhgO8+PHoCwP94efQEfGWM6YtIr+LwS1EU5ybn8+wI9Q5jTH8ymbxaa+Mq4w+Hw84Y85VYm0Oo9/WstXGSJGfnXFpm4H6/j5bLZbzdbnsiQqgNIdS/cM6l0+n0R4Wh/cYn8+RYTEEFQoUKhAoVCBUqsJhqQZ7nXRGxxpgqw9mDvYNQG3Y6nbpZln2ez+edTqdTamtLhD3YtxBqwy6Xy0sURYPFYpHOZrNdmbHswb6NUFsyHA7Zg20QiymoQKhQgVChAqFCBUKFCoQKFdie8kzNUy2RQE+2CNUjdU+1RMI92SJUj9Q51RIJ+2SLUD1U41RLJNCTLRZTUIFQoQKhQgVChQqEChUIFSoQKlQgVKhAqFCBUKECoUIFQoUKhAoVCBUqECpUIFSoQKhQgRv+gQn1yUtCDUjIT14SakBCfvKSUAMU4pOXLKagAqFCBUKFCoQKFQgVKhAqVAh2e8oY0xeRXsXh9na7dZucD+oJMlRjTH8ymbxaa+Mq47Msi/I8/5Sm6TcRqfpYGRoUZKgi0rPWxkmSnJ1zpY8S1+t1vFqtBtfrtdPG5FBeqKGKiIhzrtIJzW638/aE5lmxmIIKhAoVCBUqECpUIFSoEPSqH+X4/I0rQoWI+P+NK0KFiPj/jStCxR98/cYViymoQKhQwet//TWu6nFN7wHafPzC21DrXNXjmt77a/vxi1ZDrXt5eTQaTZMkOZS9qsc1vffX9uMX/wzVGBOJyMcyP/xLNB6PvzjnRhXG/v6rmGXZdxGptK93Op2izWYzKDvueDxGVcc/aqwvv92Wn7yXYzpz9NK+AAAAAElFTkSuQmCC\"></img></td>\n",
       "      <td id=\"T_f4dc4_row0_col5\" class=\"data row0 col5\" >0<br>(0.0%)</td>\n",
       "    </tr>\n",
       "    <tr>\n",
       "      <td id=\"T_f4dc4_row1_col0\" class=\"data row1 col0\" >2</td>\n",
       "      <td id=\"T_f4dc4_row1_col1\" class=\"data row1 col1\" ><strong>Overall Cond</strong><br>[int64]</td>\n",
       "      <td id=\"T_f4dc4_row1_col2\" class=\"data row1 col2\" >Mean (sd) : 5.6 (1.1)<br>min < med < max:<br>1.0 < 5.0 < 9.0<br>IQR (CV) : 1.0 (5.0)</td>\n",
       "      <td id=\"T_f4dc4_row1_col3\" class=\"data row1 col3\" >9 distinct values</td>\n",
       "      <td id=\"T_f4dc4_row1_col4\" class=\"data row1 col4\" ><img src = \"data:image/png;base64, iVBORw0KGgoAAAANSUhEUgAAAKoAAABGCAYAAABc8A97AAAAOXRFWHRTb2Z0d2FyZQBNYXRwbG90bGliIHZlcnNpb24zLjcuMCwgaHR0cHM6Ly9tYXRwbG90bGliLm9yZy88F64QAAAACXBIWXMAAA9hAAAPYQGoP6dpAAAChUlEQVR4nO3dT27aQBiG8W8KgTFY4yBUsmPLohKLLDlEDtsjdJEDsM8FUP7IKBQKNXTVqt20tQ3JvKPntx/bUh4ZffFI406nkwGx+/DeDwD8j+57P0CKnHOZmfUaLt+fTqftOZ8nBYR6Zs65bDwe34UQRk3Wr9frF+fcZ2L9E6GeXy+EMFosFtuiKHZ1FpZl6e/v70dPT089MyPU3xDqhRRFsZtMJl8bLM3O/jAJYJiCBEKFBEKFBEKFBEKFBEKFBEKFBEKFBEKFBEKFBEKFBEKFBEKFBEKFBEKFBEKFBEKFBEKFBEKFBEKFBEKFBEKFBEKFBEKFBEKFBEKFBEKFBEKFBEKFBEKFBEKFBEKFBEKFBEKFBEKFBEKFBEKFBEKFBEKFBEKFBEKFBEKFBI6YjExVVVdmFpxzTS+R5OnUhBqRzWZzdTgc5tPptNPpdGod+PtTqqdTE2pE9vt913s/uL293d3c3LzUXZ/y6dSEGqHhcNj0ZGqzRE+nZpiCBN6oiWk5jEU7iBFqQtoOYzEPYoSakDbDWOyDGKEmqMUwFu0gxjAFCYQKCYQKCYQKCYQKCYQKCfx7Cr/EvMWQUGFm8W8xTDZU51xmZr0Wl4j2u/clxL7FMMlQnXPZeDy+CyGMml4j5u/elxTrFsOoQ23xVgx5nk8Wi8W6KIraP2Oxf/eO1SV3bkUbapu34uFw8FVVfer3+19ifDuk6NI7t/4ZqnPOm1m/7o3PIOR5/nE+n3/PsuxbnYWPj4/+4eFhUJblcLVa7eveuCxLX1VV15q9HcLxeOyWZenrLnx9ffVmZpvNxq9Wq8Fbrm977+fn59x7P5jNZu76+rrW32u73faXy+Vff8F+AE31GNTSs43BAAAAAElFTkSuQmCC\"></img></td>\n",
       "      <td id=\"T_f4dc4_row1_col5\" class=\"data row1 col5\" >0<br>(0.0%)</td>\n",
       "    </tr>\n",
       "    <tr>\n",
       "      <td id=\"T_f4dc4_row2_col0\" class=\"data row2 col0\" >3</td>\n",
       "      <td id=\"T_f4dc4_row2_col1\" class=\"data row2 col1\" ><strong>Total Bsmt SF</strong><br>[float64]</td>\n",
       "      <td id=\"T_f4dc4_row2_col2\" class=\"data row2 col2\" >Mean (sd) : 1051.6 (440.6)<br>min < med < max:<br>0.0 < 990.0 < 6110.0<br>IQR (CV) : 509.0 (2.4)</td>\n",
       "      <td id=\"T_f4dc4_row2_col3\" class=\"data row2 col3\" >1,058 distinct values</td>\n",
       "      <td id=\"T_f4dc4_row2_col4\" class=\"data row2 col4\" ><img src = \"data:image/png;base64, iVBORw0KGgoAAAANSUhEUgAAAKoAAABGCAYAAABc8A97AAAAOXRFWHRTb2Z0d2FyZQBNYXRwbG90bGliIHZlcnNpb24zLjcuMCwgaHR0cHM6Ly9tYXRwbG90bGliLm9yZy88F64QAAAACXBIWXMAAA9hAAAPYQGoP6dpAAACTUlEQVR4nO3dP47aQBiG8W/CHxmQZmRZgo4LREpBySH2sDlCCk7ADeiQVsgIBwdjnGrTRMliGxK/3ufXz6yLR4Cl2W9cVVUGdN2n//0AwD2Gz9zcOTcxs3GLLS5VVZ0f9TzQ9bRQnXOTJElevPdx0z2Ox+PBOfeVWPHMT9Sx9z5er9fnEEJed3GaptFms4lfX1/HZkaoH9xTv/rNzEII+Xw+/95w+eShDwNZvExBAqFCAqFCAqFCAqFCAqFCAqFCAqFCAqFCAqFCAqFCAqFCAqFCAqFCAqFCAqFCAqFCAqFCAqFCAqFCAqFCAqFCAqFCAqFCAqFCAqFCAqFCAqFCAqFCAqFCAqFCAqFCAqFCAqFCAqFCwtNn+LdRluXIzLxzrslyrv7pkc6GmmXZqCiKL8vlcjAYDGrfqsLVP/3S2VAvl8swiqLparXKF4vFoc5arv7pn86G+mY2mzW9/oerf3qElylIIFRIIFRIIFRIIFRIIFRIIFRIIFRIIFRIIFRIIFRIIFRIIFRIePf0lHNuYmbjBnv72+02arAO+M1fQ3XOTZIkefHex3U3LooiKsvyc57n38ysyTE94Jf3PlHH3vt4vV6fQwi1Ttnvdrt4u91Or9froMXzAWZ258HpEELtw8uHw4GDy3gYXqYggVAhgVAhofP/3NdUy5kAZswF6JRehtp2JoAZcwG6ppehtpkJYMZcgC7qZahvWswEMGMuQKfcFWqaplHdjU+nU2RmlmVZtN/vp/9yfdu/naZpVJbl0Nr9xkU9P6qq+uPPtJ9h0LjYqh+FPQAAAABJRU5ErkJggg==\"></img></td>\n",
       "      <td id=\"T_f4dc4_row2_col5\" class=\"data row2 col5\" >1<br>(0.0%)</td>\n",
       "    </tr>\n",
       "    <tr>\n",
       "      <td id=\"T_f4dc4_row3_col0\" class=\"data row3 col0\" >4</td>\n",
       "      <td id=\"T_f4dc4_row3_col1\" class=\"data row3 col1\" ><strong>Central Air</strong><br>[object]</td>\n",
       "      <td id=\"T_f4dc4_row3_col2\" class=\"data row3 col2\" >1. Y<br>2. N</td>\n",
       "      <td id=\"T_f4dc4_row3_col3\" class=\"data row3 col3\" >2,734 (93.3%)<br>196 (6.7%)</td>\n",
       "      <td id=\"T_f4dc4_row3_col4\" class=\"data row3 col4\" ><img src = \"data:image/png;base64, iVBORw0KGgoAAAANSUhEUgAAAJsAAAAuCAYAAAA/ZmtKAAAAOXRFWHRTb2Z0d2FyZQBNYXRwbG90bGliIHZlcnNpb24zLjcuMCwgaHR0cHM6Ly9tYXRwbG90bGliLm9yZy88F64QAAAACXBIWXMAAA9hAAAPYQGoP6dpAAABOklEQVR4nO3bMWrDQBRF0T9BmLiZQQi0GC0ii80iZjdCaArbuBkXwY1B0RdxnrG4p1bxi4vARi/UWg1QCGZ2NLPDqw/BW7vWWs9rDzVd133FGFvFRdinUsoUQvheC66JMbbDMJxTShfVcdiPeZ4/c87tOI4HM/s9NjOzlNKl7/uT5Drs0dHz0Md/XwHcERtkiA0yxAYZYoMMsUGG2CBDbJAhNsgQG2SIDTLEBhligwyxQYbYINOY/XwA9+pD8J62tNOUUqacc2vOD+CAR6WUycyua88xeMEzuAYvgSkfVLa82Vz1AkvcUz7vXAtY4prybZlrAUu2TPn4tYo/4U9dyBAbZIgNMsQGGWKDDLFBhtggQ2yQITbIEBtkiA0yxAYZYoMMsUGG2CDjmvIx9cMzuKd83rkWsITBC2RuCltq3yMnojQAAAAASUVORK5CYII=\"></img></td>\n",
       "      <td id=\"T_f4dc4_row3_col5\" class=\"data row3 col5\" >0<br>(0.0%)</td>\n",
       "    </tr>\n",
       "    <tr>\n",
       "      <td id=\"T_f4dc4_row4_col0\" class=\"data row4 col0\" >5</td>\n",
       "      <td id=\"T_f4dc4_row4_col1\" class=\"data row4 col1\" ><strong>Gr Liv Area</strong><br>[int64]</td>\n",
       "      <td id=\"T_f4dc4_row4_col2\" class=\"data row4 col2\" >Mean (sd) : 1499.7 (505.5)<br>min < med < max:<br>334.0 < 1442.0 < 5642.0<br>IQR (CV) : 616.8 (3.0)</td>\n",
       "      <td id=\"T_f4dc4_row4_col3\" class=\"data row4 col3\" >1,292 distinct values</td>\n",
       "      <td id=\"T_f4dc4_row4_col4\" class=\"data row4 col4\" ><img src = \"data:image/png;base64, iVBORw0KGgoAAAANSUhEUgAAAKoAAABGCAYAAABc8A97AAAAOXRFWHRTb2Z0d2FyZQBNYXRwbG90bGliIHZlcnNpb24zLjcuMCwgaHR0cHM6Ly9tYXRwbG90bGliLm9yZy88F64QAAAACXBIWXMAAA9hAAAPYQGoP6dpAAACeElEQVR4nO3dP47aQBiH4W/CggwoY1lI0HGBSCkoOcQeNm26FJyAG9AgJMQfQSAYcKqtstnFHjvrn/M+/Qxe6ZVhRrMal2WZAXX36aMfAHjEU5WTO+e6ZtYJmOKSZdmprOeBrspCdc51B4PBs/c+KTrHfr/fOOe+ESuqfKN2vPfJdDo9xXF8zjt4t9tFs9ksWa/XHTMj1P9cpV/9ZmZxHJ+Hw+HPgsO7pT4MZLGYgoTK36ghbrdb28y8c67IcBZiDVLbUI/HYztN06/j8bjVarVy/8ZlIdYstQ31crk8RVHUm0wm59FotMkzloVY89Q21Bf9fr/oYoyFWIOwmIIEQoUEQoUEQoUEQoUEQoUEQoUEQoUEQoUEQoUEQoUEQoUEQoUEQoUEQoUEQoUEQoUEQoUEQoUEQoUEQoUEQoUEQoUEQoUEQoUEQoUEQoUEQoUEQoUEQoUEQoUEQoUEQoUEQoUEQoUEQoUEQoUEQoUEQoWE2t8zVVTg9ZRmXFFZK40MNfR6SjOuqKybRoYacj2lGVdU1lEjQ30RcD2lGVdU1gqLKUggVEggVEggVEh4dzHlnOuaWafA3P5+v7cLjAP+8GaozrnuYDB49t4neSdO0zS63W5fzufzDzMruvIGzOz9N2rHe59Mp9NTHMe5Ns4Xi0Uyn8971+u1FfB8gJk9uI8ax3Hu/cjNZsM+JErT6A3/EIFnBTgnUDJCfUXoWQHOCZSPUF8RclaAcwLVINQ3BJwV4Pd5ydjwhwRChQS++ivAjkH5Hgp1t9tFeSc+HA6RmdnxeIxWq1XvX47/yM9eLpefQ3YMttvtwTn33cwK/WeCsF9Zlv31b/4NZAH5QXzf+0MAAAAASUVORK5CYII=\"></img></td>\n",
       "      <td id=\"T_f4dc4_row4_col5\" class=\"data row4 col5\" >0<br>(0.0%)</td>\n",
       "    </tr>\n",
       "    <tr>\n",
       "      <td id=\"T_f4dc4_row5_col0\" class=\"data row5 col0\" >6</td>\n",
       "      <td id=\"T_f4dc4_row5_col1\" class=\"data row5 col1\" ><strong>SalePrice</strong><br>[int64]</td>\n",
       "      <td id=\"T_f4dc4_row5_col2\" class=\"data row5 col2\" >Mean (sd) : 180796.1 (79886.7)<br>min < med < max:<br>12789.0 < 160000.0 < 755000.0<br>IQR (CV) : 84000.0 (2.3)</td>\n",
       "      <td id=\"T_f4dc4_row5_col3\" class=\"data row5 col3\" >1,032 distinct values</td>\n",
       "      <td id=\"T_f4dc4_row5_col4\" class=\"data row5 col4\" ><img src = \"data:image/png;base64, iVBORw0KGgoAAAANSUhEUgAAAKoAAABGCAYAAABc8A97AAAAOXRFWHRTb2Z0d2FyZQBNYXRwbG90bGliIHZlcnNpb24zLjcuMCwgaHR0cHM6Ly9tYXRwbG90bGliLm9yZy88F64QAAAACXBIWXMAAA9hAAAPYQGoP6dpAAACfklEQVR4nO3dTW7aQBiH8fctARmQxkJUsOMClbpgySFy2G67KxIn4AbZIVl8CArly11l2QbbUObvPr/9TEbKI7CdzNjzPDcgdp+evQDgFi+PnNzd22bWqjDFMc/z/b3WA10PC9Xd2/1+/zWE0Cs7x2azWbr7N2LFIz9RWyGE3mQy2adpeig6eL1eJ7PZrJdlWcvMCPU/99CvfjOzNE0Pg8HgZ8nh7bsuBrK4mYIEQoUEQoUEQoUEQoUEQoUEQoUEQoUEQoUEQoUEQoUEQoUEQoUEQoUEQoUEQoUEQoUEQoWEh29FqeJyuTTNLLh7meHsYK2RaEPd7XbN0+n0dTQaNRqNRuHNgexgrZdoQz0ejy9JknTG4/FhOBwui4xlB2v9RBvqu263W3YXKztYa4SbKUggVEggVEggVEggVEggVEggVEggVEggVEggVEggVEggVEggVEggVEggVEggVEggVEggVEggVEggVEggVEggVEggVEggVEggVEiI/qSUsioesGbGIWtRqWWoVQ9YM+OQtdjUMtQqB6yZcchajGoZ6rsKB6yZcchaVLiZggRChQRChQRChQRChYQP7/rdvW1mrRJzh+v12iwxLgq8kSUufw3V3dv9fv81hNArOvHpdEoul8uXw+Hww8zKPiJ6Ct7IEp+PPlFbIYTeZDLZp2la6Bf29vbWm8/nnfP53KiwvqfgjSzxuemBf5qmhR+cL5dL+QfmvJElHrX+y9SzcH17f4R6Z1zfPgah3lnV69vpdDrIsuyzu2/KLqGOkd8U6nq9TopOvN1uEzOz3W6XLBaLzr8cH8PPLmO/31f+98TVarV19+9mVmr8E/3K8/yPa/4NgBEf8lTBbeEAAAAASUVORK5CYII=\"></img></td>\n",
       "      <td id=\"T_f4dc4_row5_col5\" class=\"data row5 col5\" >0<br>(0.0%)</td>\n",
       "    </tr>\n",
       "  </tbody>\n",
       "</table>\n"
      ],
      "text/plain": [
       "<pandas.io.formats.style.Styler at 0x1ef1c32c2e0>"
      ]
     },
     "execution_count": 7,
     "metadata": {},
     "output_type": "execute_result"
    }
   ],
   "source": [
    "dfSummary(df)"
   ]
  },
  {
   "cell_type": "code",
   "execution_count": 8,
   "id": "f397aed2",
   "metadata": {},
   "outputs": [
    {
     "name": "stdout",
     "output_type": "stream",
     "text": [
      "Success: the bamboolib extension was enabled successfully. You can disable it via 'bam.disable()'. You will now see a magic bamboolib button when you display your dataframes, for example via 'df'\n"
     ]
    }
   ],
   "source": [
    "import bamboolib as bam\n",
    "bam.enable()"
   ]
  },
  {
   "cell_type": "code",
   "execution_count": 9,
   "id": "beef2834",
   "metadata": {},
   "outputs": [
    {
     "data": {
      "application/vnd.jupyter.widget-view+json": {
       "model_id": "6be4966ded134cb38df0f89c67baa133"
      },
      "text/plain": [
       "   Overall Qual  Overall Cond  Total Bsmt SF Central Air  Gr Liv Area  \\\n",
       "0             6             5         1080.0           Y         1656   \n",
       "1             5             6          882.0           Y          896   \n",
       "2             6             6         1329.0           Y         1329   \n",
       "3             7             5         2110.0           Y         2110   \n",
       "4             5             5          928.0           Y         1629   \n",
       "\n",
       "   SalePrice  \n",
       "0     215000  \n",
       "1     105000  \n",
       "2     172000  \n",
       "3     244000  \n",
       "4     189900  "
      ]
     },
     "metadata": {},
     "output_type": "display_data"
    }
   ],
   "source": [
    "df.head()"
   ]
  },
  {
   "cell_type": "code",
   "execution_count": 10,
   "id": "a4020de0",
   "metadata": {},
   "outputs": [
    {
     "name": "stdout",
     "output_type": "stream",
     "text": [
      "<class 'pandas.core.frame.DataFrame'>\n",
      "RangeIndex: 2930 entries, 0 to 2929\n",
      "Data columns (total 6 columns):\n",
      " #   Column         Non-Null Count  Dtype  \n",
      "---  ------         --------------  -----  \n",
      " 0   Overall Qual   2930 non-null   int64  \n",
      " 1   Overall Cond   2930 non-null   int64  \n",
      " 2   Total Bsmt SF  2929 non-null   float64\n",
      " 3   Central Air    2930 non-null   object \n",
      " 4   Gr Liv Area    2930 non-null   int64  \n",
      " 5   SalePrice      2930 non-null   int64  \n",
      "dtypes: float64(1), int64(4), object(1)\n",
      "memory usage: 137.5+ KB\n"
     ]
    }
   ],
   "source": [
    "df.info() #information about non null values and data types of columns"
   ]
  },
  {
   "cell_type": "code",
   "execution_count": 11,
   "id": "ae6c4eb8",
   "metadata": {},
   "outputs": [
    {
     "data": {
      "application/vnd.jupyter.widget-view+json": {
       "model_id": "8e25ad656d4c4c0790cde0034bbe698c"
      },
      "text/plain": [
       "                count           mean           std      min       25%  \\\n",
       "Overall Qual   2930.0       6.094881      1.411026      1.0       5.0   \n",
       "Overall Cond   2930.0       5.563140      1.111537      1.0       5.0   \n",
       "Total Bsmt SF  2929.0    1051.614544    440.615067      0.0     793.0   \n",
       "Gr Liv Area    2930.0    1499.690444    505.508887    334.0    1126.0   \n",
       "SalePrice      2930.0  180796.060068  79886.692357  12789.0  129500.0   \n",
       "\n",
       "                    50%        75%       max  \n",
       "Overall Qual        6.0       7.00      10.0  \n",
       "Overall Cond        5.0       6.00       9.0  \n",
       "Total Bsmt SF     990.0    1302.00    6110.0  \n",
       "Gr Liv Area      1442.0    1742.75    5642.0  \n",
       "SalePrice      160000.0  213500.00  755000.0  "
      ]
     },
     "metadata": {},
     "output_type": "display_data"
    }
   ],
   "source": [
    "df.describe().T #to know about mean,standard deviation of columns"
   ]
  },
  {
   "cell_type": "code",
   "execution_count": 12,
   "id": "380dcebd",
   "metadata": {},
   "outputs": [
    {
     "data": {
      "application/vnd.jupyter.widget-view+json": {
       "model_id": "6f26c1cbf5974501bd6fa9b952591156"
      },
      "text/plain": [
       "      Overall Qual  Overall Cond  Total Bsmt SF  Central Air  Gr Liv Area  \\\n",
       "0            False         False          False        False        False   \n",
       "1            False         False          False        False        False   \n",
       "2            False         False          False        False        False   \n",
       "3            False         False          False        False        False   \n",
       "4            False         False          False        False        False   \n",
       "...            ...           ...            ...          ...          ...   \n",
       "2925         False         False          False        False        False   \n",
       "2926         False         False          False        False        False   \n",
       "2927         False         False          False        False        False   \n",
       "2928         False         False          False        False        False   \n",
       "2929         False         False          False        False        False   \n",
       "\n",
       "      SalePrice  \n",
       "0         False  \n",
       "1         False  \n",
       "2         False  \n",
       "3         False  \n",
       "4         False  \n",
       "...         ...  \n",
       "2925      False  \n",
       "2926      False  \n",
       "2927      False  \n",
       "2928      False  \n",
       "2929      False  \n",
       "\n",
       "[2930 rows x 6 columns]"
      ]
     },
     "metadata": {},
     "output_type": "display_data"
    }
   ],
   "source": [
    "df.isnull() #to check about null values"
   ]
  },
  {
   "cell_type": "code",
   "execution_count": 13,
   "id": "a28bc094",
   "metadata": {},
   "outputs": [
    {
     "data": {
      "text/plain": [
       "Overall Qual     0\n",
       "Overall Cond     0\n",
       "Total Bsmt SF    1\n",
       "Central Air      0\n",
       "Gr Liv Area      0\n",
       "SalePrice        0\n",
       "dtype: int64"
      ]
     },
     "execution_count": 13,
     "metadata": {},
     "output_type": "execute_result"
    }
   ],
   "source": [
    "df.isnull().sum() #to know the total sum of null values"
   ]
  },
  {
   "cell_type": "code",
   "execution_count": 14,
   "id": "3432a8ad",
   "metadata": {},
   "outputs": [
    {
     "data": {
      "application/vnd.jupyter.widget-view+json": {
       "model_id": "679ca2e717254d8dbf3675a9f838f2dc"
      },
      "text/plain": [
       "      Overall Qual  Overall Cond  Total Bsmt SF Central Air  Gr Liv Area  \\\n",
       "0                6             5         1080.0           Y         1656   \n",
       "1                5             6          882.0           Y          896   \n",
       "2                6             6         1329.0           Y         1329   \n",
       "3                7             5         2110.0           Y         2110   \n",
       "4                5             5          928.0           Y         1629   \n",
       "...            ...           ...            ...         ...          ...   \n",
       "2925             6             6         1003.0           Y         1003   \n",
       "2926             5             5          864.0           Y          902   \n",
       "2927             5             5          912.0           Y          970   \n",
       "2928             5             5         1389.0           Y         1389   \n",
       "2929             7             5          996.0           Y         2000   \n",
       "\n",
       "      SalePrice  \n",
       "0        215000  \n",
       "1        105000  \n",
       "2        172000  \n",
       "3        244000  \n",
       "4        189900  \n",
       "...         ...  \n",
       "2925     142500  \n",
       "2926     131000  \n",
       "2927     132000  \n",
       "2928     170000  \n",
       "2929     188000  \n",
       "\n",
       "[2930 rows x 6 columns]"
      ]
     },
     "metadata": {},
     "output_type": "display_data"
    },
    {
     "name": "stderr",
     "output_type": "stream",
     "text": [
      "Exception in thread Thread-12 (load_bamboolib_ui):\n",
      "Traceback (most recent call last):\n",
      "  File \"C:\\Users\\Vineetha Varma\\anaconda3\\lib\\threading.py\", line 1016, in _bootstrap_inner\n",
      "    self.run()\n",
      "  File \"C:\\Users\\Vineetha Varma\\anaconda3\\lib\\threading.py\", line 953, in run\n"
     ]
    }
   ],
   "source": [
    "#replace the missing value of 'Total Bsmt SF' with the mean age of 'Total Bsmt SF'\n",
    "mean_tot_bsmt_sf= df['Total Bsmt SF'].mean()\n",
    "df['Total Bsmt SF'] = df['Total Bsmt SF'].fillna(mean_tot_bsmt_sf)\n",
    "df"
   ]
  },
  {
   "cell_type": "code",
   "execution_count": 15,
   "id": "da01d044",
   "metadata": {},
   "outputs": [
    {
     "name": "stderr",
     "output_type": "stream",
     "text": [
      "    self._target(*self._args, **self._kwargs)\n",
      "  File \"C:\\Users\\Vineetha Varma\\anaconda3\\lib\\site-packages\\bamboolib\\setup\\ipython_display.py\", line 194, in load_bamboolib_ui\n",
      "    create_dataframe_ui(\n",
      "  File \"C:\\Users\\Vineetha Varma\\anaconda3\\lib\\site-packages\\bamboolib\\wrangler.py\", line 919, in create_dataframe_ui\n",
      "    df_manager = DfManager(df, symbols=symbols, df_name=df_name)\n",
      "  File \"C:\\Users\\Vineetha Varma\\anaconda3\\lib\\site-packages\\bamboolib\\df_manager.py\", line 88, in __init__\n"
     ]
    },
    {
     "data": {
      "text/plain": [
       "Overall Qual     0\n",
       "Overall Cond     0\n",
       "Total Bsmt SF    0\n",
       "Central Air      0\n",
       "Gr Liv Area      0\n",
       "SalePrice        0\n",
       "dtype: int64"
      ]
     },
     "execution_count": 15,
     "metadata": {},
     "output_type": "execute_result"
    },
    {
     "name": "stderr",
     "output_type": "stream",
     "text": [
      "    if self._df_needs_normalization(df):\n",
      "  File \"C:\\Users\\Vineetha Varma\\anaconda3\\lib\\site-packages\\bamboolib\\df_manager.py\", line 142, in _df_needs_normalization\n",
      "    not self._is_valid_df_index(df),\n",
      "  File \"C:\\Users\\Vineetha Varma\\anaconda3\\lib\\site-packages\\bamboolib\\df_manager.py\", line 218, in _is_valid_df_index\n",
      "    has_int_index = isinstance(df.index, pd.Int64Index)\n",
      "AttributeError: module 'pandas' has no attribute 'Int64Index'\n"
     ]
    }
   ],
   "source": [
    "df.isnull().sum() #after replacing the null value with mean again checking the total sum of null values"
   ]
  },
  {
   "cell_type": "code",
   "execution_count": 16,
   "id": "a99584b1",
   "metadata": {},
   "outputs": [
    {
     "data": {
      "application/vnd.jupyter.widget-view+json": {
       "model_id": "27e3e04680ba453184b6d04c45ff97e4"
      },
      "text/plain": [
       "      Overall Qual  Overall Cond  Total Bsmt SF  Central Air  Gr Liv Area  \\\n",
       "0                6             5         1080.0            1         1656   \n",
       "1                5             6          882.0            1          896   \n",
       "2                6             6         1329.0            1         1329   \n",
       "3                7             5         2110.0            1         2110   \n",
       "4                5             5          928.0            1         1629   \n",
       "...            ...           ...            ...          ...          ...   \n",
       "2925             6             6         1003.0            1         1003   \n",
       "2926             5             5          864.0            1          902   \n",
       "2927             5             5          912.0            1          970   \n",
       "2928             5             5         1389.0            1         1389   \n",
       "2929             7             5          996.0            1         2000   \n",
       "\n",
       "      SalePrice  \n",
       "0        215000  \n",
       "1        105000  \n",
       "2        172000  \n",
       "3        244000  \n",
       "4        189900  \n",
       "...         ...  \n",
       "2925     142500  \n",
       "2926     131000  \n",
       "2927     132000  \n",
       "2928     170000  \n",
       "2929     188000  \n",
       "\n",
       "[2930 rows x 6 columns]"
      ]
     },
     "metadata": {},
     "output_type": "display_data"
    },
    {
     "name": "stderr",
     "output_type": "stream",
     "text": [
      "Exception in thread Thread-13 (load_bamboolib_ui):\n",
      "Traceback (most recent call last):\n",
      "  File \"C:\\Users\\Vineetha Varma\\anaconda3\\lib\\threading.py\", line 1016, in _bootstrap_inner\n",
      "    self.run()\n",
      "  File \"C:\\Users\\Vineetha Varma\\anaconda3\\lib\\threading.py\", line 953, in run\n",
      "    self._target(*self._args, **self._kwargs)\n",
      "  File \"C:\\Users\\Vineetha Varma\\anaconda3\\lib\\site-packages\\bamboolib\\setup\\ipython_display.py\", line 194, in load_bamboolib_ui\n"
     ]
    }
   ],
   "source": [
    "#converting categorical Central Air column and mapping to numbers  0 and 1 \n",
    "df['Central Air'] = df['Central Air'].map({'Y':1,'N':0})\n",
    "df"
   ]
  },
  {
   "cell_type": "code",
   "execution_count": 17,
   "id": "dd624a0c",
   "metadata": {},
   "outputs": [
    {
     "name": "stderr",
     "output_type": "stream",
     "text": [
      "    create_dataframe_ui(\n",
      "  File \"C:\\Users\\Vineetha Varma\\anaconda3\\lib\\site-packages\\bamboolib\\wrangler.py\", line 919, in create_dataframe_ui\n",
      "    df_manager = DfManager(df, symbols=symbols, df_name=df_name)\n",
      "  File \"C:\\Users\\Vineetha Varma\\anaconda3\\lib\\site-packages\\bamboolib\\df_manager.py\", line 88, in __init__\n",
      "    if self._df_needs_normalization(df):\n",
      "  File \"C:\\Users\\Vineetha Varma\\anaconda3\\lib\\site-packages\\bamboolib\\df_manager.py\", line 142, in _df_needs_normalization\n",
      "    not self._is_valid_df_index(df),\n",
      "  File \"C:\\Users\\Vineetha Varma\\anaconda3\\lib\\site-packages\\bamboolib\\df_manager.py\", line 218, in _is_valid_df_index\n",
      "    has_int_index = isinstance(df.index, pd.Int64Index)\n",
      "AttributeError: module 'pandas' has no attribute 'Int64Index'\n"
     ]
    },
    {
     "data": {
      "application/vnd.jupyter.widget-view+json": {
       "model_id": "b1697e3a8c2a473bb7f55115e96b654e"
      },
      "text/plain": [
       "   Overall Qual  Overall Cond  Total Bsmt SF  Central Air  Gr Liv Area  \\\n",
       "0             6             5         1080.0            1         1656   \n",
       "1             5             6          882.0            1          896   \n",
       "2             6             6         1329.0            1         1329   \n",
       "3             7             5         2110.0            1         2110   \n",
       "4             5             5          928.0            1         1629   \n",
       "\n",
       "   SalePrice  \n",
       "0     215000  \n",
       "1     105000  \n",
       "2     172000  \n",
       "3     244000  \n",
       "4     189900  "
      ]
     },
     "metadata": {},
     "output_type": "display_data"
    }
   ],
   "source": [
    "df.head() "
   ]
  },
  {
   "cell_type": "code",
   "execution_count": 18,
   "id": "226967d3",
   "metadata": {},
   "outputs": [],
   "source": [
    "from sklearn.model_selection import train_test_split\n",
    "from sklearn.preprocessing import StandardScaler\n",
    "from sklearn.linear_model import LogisticRegression\n",
    "from sklearn.metrics import confusion_matrix, classification_report\n",
    "\n",
    "#assigning the target to y variable\n",
    "y = df['SalePrice']\n",
    "#dropping the target from the dataframe\n",
    "X = df.drop(['SalePrice'],axis=1)"
   ]
  },
  {
   "cell_type": "code",
   "execution_count": 19,
   "id": "a6d4b312",
   "metadata": {},
   "outputs": [],
   "source": [
    "#splitting the data into train and test sets\n",
    "x_train, x_test, y_train, y_test = train_test_split(X, y, shuffle = True,\n",
    "                                                   train_size = 0.7,\n",
    "                                                   random_state = 100)\n",
    "#scaling the data\n",
    "scaler = StandardScaler()\n",
    "x_train = scaler.fit_transform(x_train)\n",
    "x_test = scaler.transform(x_test)"
   ]
  },
  {
   "cell_type": "code",
   "execution_count": 20,
   "id": "d72f5ded",
   "metadata": {},
   "outputs": [
    {
     "name": "stdout",
     "output_type": "stream",
     "text": [
      "k=1 \n",
      " Train MSE:36448547.241833255 \n",
      " Test MSE:1445240440.949943\n",
      "\n",
      "k=2 \n",
      " Train MSE:441262414.0692345 \n",
      " Test MSE:1234458700.1191695\n",
      "\n",
      "k=3 \n",
      " Train MSE:524156900.9658703 \n",
      " Test MSE:1121686750.893566\n",
      "\n",
      "k=4 \n",
      " Train MSE:615100601.9396331 \n",
      " Test MSE:1041229762.1463311\n",
      "\n",
      "k=5 \n",
      " Train MSE:673417483.5496831 \n",
      " Test MSE:1017730267.4273039\n",
      "\n",
      "k=6 \n",
      " Train MSE:734248499.9351672 \n",
      " Test MSE:1026012358.062255\n",
      "\n",
      "k=7 \n",
      " Train MSE:756390110.7077683 \n",
      " Test MSE:1009635281.6492535\n",
      "\n",
      "k=8 \n",
      " Train MSE:792438435.2237247 \n",
      " Test MSE:1024937071.5616112\n",
      "\n",
      "k=9 \n",
      " Train MSE:811585266.4928279 \n",
      " Test MSE:1026136349.4365512\n",
      "\n"
     ]
    },
    {
     "data": {
      "image/png": "[encoded data removed]",
      "text/plain": [
       "<Figure size 1000x600 with 1 Axes>"
      ]
     },
     "metadata": {},
     "output_type": "display_data"
    },
    {
     "name": "stdout",
     "output_type": "stream",
     "text": [
      "K that has lowest MSE:7\n"
     ]
    }
   ],
   "source": [
    "import numpy as np\n",
    "import matplotlib.pyplot as plt\n",
    "from sklearn.model_selection import train_test_split\n",
    "from sklearn.neighbors import KNeighborsRegressor\n",
    "from sklearn.metrics import mean_squared_error, r2_score\n",
    "\n",
    "\n",
    "# Initialize lists to store MSE values(train and test) for different k values\n",
    "mse_values_train = []\n",
    "mse_values_test = []\n",
    "\n",
    "#range of k from 1 to 9\n",
    "k_values = list(range(1, 10))\n",
    "\n",
    "#interation through each k value\n",
    "for k in k_values:\n",
    "    # Create and fit the KNN regressor\n",
    "    knn_model = KNeighborsRegressor(n_neighbors=k)\n",
    "    knn_model.fit(x_train, y_train)\n",
    "    \n",
    "    #predictions on the training and testing set\n",
    "    y_train_predct = knn_model.predict(x_train)\n",
    "    y_test_predct=knn_model.predict(x_test)\n",
    "    \n",
    "    #MSE for the training set and testing set\n",
    "    mse_train = mean_squared_error(y_train, y_train_predct)\n",
    "    mse_test = mean_squared_error(y_test, y_test_predct)\n",
    "    \n",
    "    # Appending the MSE values to the list\n",
    "    mse_values_train.append(mse_train)\n",
    "    mse_values_test.append(mse_test)\n",
    "    print(f'k={k} \\n Train MSE:{mse_train} \\n Test MSE:{mse_test}\\n')\n",
    "\n",
    "# Plot the Train MSE values for different k values\n",
    "plt.figure(figsize=(10, 6))\n",
    "plt.plot(k_values, mse_values_train, marker='o', linestyle='-', color='b')\n",
    "plt.title('MSE vs. K Value for KNN Regression')\n",
    "plt.xlabel('Number of Neighbors (K)')\n",
    "plt.ylabel('Mean Squared Error (MSE)')\n",
    "plt.xticks(k_values)\n",
    "plt.grid(True)\n",
    "plt.show()\n",
    "best_k_index = mse_values_test.index(min(mse_values_test))\n",
    "best_k_value = k_values[best_k_index]\n",
    "print(f'K that has lowest MSE:{best_k_value}')"
   ]
  },
  {
   "cell_type": "code",
   "execution_count": 21,
   "id": "de703ae2",
   "metadata": {},
   "outputs": [
    {
     "name": "stdout",
     "output_type": "stream",
     "text": [
      "Train MSE for best k (7): 756390110.71\n",
      "Test MSE for best k (7): 1009635281.65\n",
      "Train R-squared for best k (7): 0.87\n",
      "Test R-squared for best k (7): 0.86\n"
     ]
    }
   ],
   "source": [
    "#value of K is chosen as 7 because it has lowest MSE(test)(#1009635281.6492535) value\n",
    "\n",
    "# Create and fit the KNN regressor with the best k value\n",
    "best_knn_model = KNeighborsRegressor(n_neighbors=best_k_value)\n",
    "best_knn_model.fit(x_train, y_train)\n",
    "\n",
    "#predictions on the training and test sets\n",
    "y_train_pred = best_knn_model.predict(x_train)\n",
    "y_test_pred = best_knn_model.predict(x_test)\n",
    "\n",
    "# Calculating the training and test MSE values\n",
    "train_mse = mean_squared_error(y_train, y_train_pred)\n",
    "test_mse = mean_squared_error(y_test, y_test_pred)\n",
    "print(f\"Train MSE for best k ({best_k_value}): {train_mse:.2f}\")   #MSE of training data\n",
    "print(f\"Test MSE for best k ({best_k_value}): {test_mse:.2f}\")     #MSE of testing data\n",
    "\n",
    "# Calculating he R-squared value for the test set\n",
    "train_r2 = r2_score(y_train, y_train_pred)\n",
    "test_r2 = r2_score(y_test, y_test_pred)\n",
    "print(f\"Train R-squared for best k ({best_k_value}): {train_r2:.2f}\")\n",
    "print(f\"Test R-squared for best k ({best_k_value}): {test_r2:.2f}\") #Rsquare "
   ]
  },
  {
   "cell_type": "code",
   "execution_count": 22,
   "id": "42395697",
   "metadata": {},
   "outputs": [
    {
     "name": "stdout",
     "output_type": "stream",
     "text": [
      "Training score for MSE 1477439772.8010237\n",
      "Test score for MSE  1610479044.653723\n",
      "Training score for R-square  0.7524084221415666\n",
      "Test score for R-square  0.779524366818542\n"
     ]
    }
   ],
   "source": [
    "#Linear Regression\n",
    "from sklearn.linear_model import LinearRegression\n",
    "from sklearn.metrics import mean_squared_error\n",
    "model = LinearRegression()\n",
    "model.fit(x_train, y_train)  #fitting the model using linear regression\n",
    "\n",
    "#for mean_squared_error we need to predict values\n",
    "y_train_pred = model.predict(x_train) #predicted values for x_train\n",
    "y_test_pred = model.predict(x_test) #predicted values for x_test\n",
    "print(\"Training score for MSE\", mean_squared_error(y_train, y_train_pred)) #MSE of training data\n",
    "print(\"Test score for MSE \", mean_squared_error(y_test, y_test_pred)) #MSE of testing data\n",
    "print(\"Training score for R-square \", model.score(x_train, y_train)) #model.score used for R-Square\n",
    "print(\"Test score for R-square \", model.score(x_test, y_test))\n"
   ]
  },
  {
   "cell_type": "code",
   "execution_count": 23,
   "id": "8d5a4d86",
   "metadata": {},
   "outputs": [
    {
     "name": "stdout",
     "output_type": "stream",
     "text": [
      "Training score for MSE 1477439776.1187208\n",
      "Test score for MSE  1610509094.9946578\n",
      "Training set score: 0.75\n",
      "Test set score: 0.78\n",
      "Number of features used: 5\n"
     ]
    }
   ],
   "source": [
    "#Lasso Regression\n",
    "import numpy as np\n",
    "from sklearn.linear_model import Lasso\n",
    "\n",
    "lasso = Lasso().fit(x_train, y_train) #fitting the model using Lasso regression\n",
    "#for mean_squared_error we need to predict values\n",
    "y_train_pred = lasso.predict(x_train) #predicted values for x_train\n",
    "y_test_pred = lasso.predict(x_test) #predicted values for x_test\n",
    "print(\"Training score for MSE\", mean_squared_error(y_train, y_train_pred)) #MSE of training data\n",
    "print(\"Test score for MSE \", mean_squared_error(y_test, y_test_pred)) #MSE of testing data\n",
    "print(\"Training set score: {:.2f}\".format(lasso.score(x_train, y_train))) #model.score used for R-Square\n",
    "print(\"Test set score: {:.2f}\".format(lasso.score(x_test, y_test)))\n",
    "print(\"Number of features used: {}\".format(np.sum(lasso.coef_ != 0))) #Number of features used for Lasso Regression"
   ]
  },
  {
   "cell_type": "code",
   "execution_count": 24,
   "id": "d3628ab3",
   "metadata": {},
   "outputs": [
    {
     "name": "stdout",
     "output_type": "stream",
     "text": [
      "Training score for MSE 1477440190.077617\n",
      "Test score for MSE  1610628455.295839\n",
      "Training set R square: 0.75\n",
      "Test set R square: 0.78\n"
     ]
    }
   ],
   "source": [
    "#Ridge Regression\n",
    "from sklearn.linear_model import Ridge\n",
    "\n",
    "ridge = Ridge()\n",
    "ridge.fit(x_train, y_train) #fitting the model using Ridge regression\n",
    "#mean_squared_error we need to predict values\n",
    "y_train_pred = ridge.predict(x_train) #predicted values for x_train\n",
    "y_test_pred = ridge.predict(x_test)  #predicted values for x_test\n",
    "print(\"Training score for MSE\", mean_squared_error(y_train, y_train_pred)) #MSE of training data\n",
    "print(\"Test score for MSE \", mean_squared_error(y_test, y_test_pred)) #MSE of testing data\n",
    "print(\"Training set R square: {:.2f}\".format(ridge.score(x_train, y_train))) #model.score used for R-Square\n",
    "print(\"Test set R square: {:.2f}\".format(ridge.score(x_test, y_test)))\n"
   ]
  },
  {
   "cell_type": "code",
   "execution_count": 25,
   "id": "45f75edb",
   "metadata": {},
   "outputs": [
    {
     "data": {
      "image/png": "[encoded data removed]",
      "text/plain": [
       "<Figure size 800x600 with 1 Axes>"
      ]
     },
     "metadata": {},
     "output_type": "display_data"
    }
   ],
   "source": [
    "#scatter plot for  \"Overall Quality of the House\" versus \"Sales Price\"\n",
    "%matplotlib inline\n",
    "import matplotlib.pyplot as plt\n",
    "import seaborn as sns\n",
    "plt.figure(figsize=(8, 6))\n",
    "sns.scatterplot(data=df, x='Overall Qual', y='SalePrice')\n",
    "plt.title(\"Overall Quality of the House versus Sales Price\")\n",
    "plt.xlabel('Overall Quality')\n",
    "plt.ylabel('Sale Price')\n",
    "plt.grid()\n",
    "plt.show()"
   ]
  },
  {
   "cell_type": "code",
   "execution_count": 26,
   "id": "515f8d5b",
   "metadata": {},
   "outputs": [],
   "source": [
    "#There is a positive linear relationship between the Overall Quality and SalePrice because its increasing linearly as\n",
    "#observed from above scatter plot"
   ]
  },
  {
   "cell_type": "code",
   "execution_count": 27,
   "id": "66ff1dee",
   "metadata": {},
   "outputs": [],
   "source": [
    "#PolynomialFeatures - LinearRegression\n",
    "from sklearn.preprocessing import PolynomialFeatures\n",
    "from sklearn.linear_model import LinearRegression\n",
    "from sklearn.metrics import mean_squared_error, r2_score\n",
    "\n",
    "poly = PolynomialFeatures(degree=3, include_bias=False)  #feature settting by including polynomials of degree 3\n",
    "poly.fit(x_train)\n",
    "x_train = poly.transform(x_train)  #fitting and tranforming the train data\n",
    "x_test = poly.transform(x_test)    #transforming the test data"
   ]
  },
  {
   "cell_type": "code",
   "execution_count": 31,
   "id": "977f7add",
   "metadata": {},
   "outputs": [
    {
     "name": "stdout",
     "output_type": "stream",
     "text": [
      "MSE:\n",
      "Training score:  785489043.7669467\n",
      "Test score:  990594262.8781486\n",
      "R-square:\n",
      "Training score:  0.8683665653808263\n",
      "Test score:  0.864386998353686\n",
      "0.864386998353686\n",
      "Slope (Coefficient): -5395608108391471.0\n",
      "Intercept: 173599.1912581111\n"
     ]
    }
   ],
   "source": [
    "#Linear Regression with polynomial features\n",
    "model = LinearRegression()\n",
    "model.fit(x_train, y_train)\n",
    "\n",
    "print(\"MSE:\")\n",
    "#mean_squared_error we need to predict values\n",
    "y_train_pred = model.predict(x_train) #predicted values for x_train\n",
    "y_test_pred = model.predict(x_test) #predicted values for x_test\n",
    "print(\"Training score: \", mean_squared_error(y_train, y_train_pred)) #MSE of training data\n",
    "print(\"Test score: \", mean_squared_error(y_test, y_test_pred))     #MSE of testing data\n",
    "\n",
    "print(\"R-square:\")\n",
    "print(\"Training score: \", model.score(x_train, y_train)) #model.score used R-Square\n",
    "print(\"Test score: \", model.score(x_test, y_test))\n",
    "print(r2_score(y_test,y_test_pred))\n",
    "coefficients = model.coef_\n",
    "intercept = model.intercept_\n",
    "\n",
    "print(f\"Slope (Coefficient): {coefficients[0]}\")\n",
    "print(f\"Intercept: {intercept}\")"
   ]
  },
  {
   "cell_type": "code",
   "execution_count": 29,
   "id": "34e1c775",
   "metadata": {},
   "outputs": [],
   "source": [
    "#Applied three models Linear, Lasso(used for feature selection), Ridge models.\n",
    "#Lowest Test MSE value is a better model\n",
    "#Linear Regression Test MSE value - 1610479044.653723\n",
    "#Lasso Regression Test MSE value - 1610509094.9946578\n",
    "#Ridge Regression Test MSE value - 1610628455.295839\n",
    "#Its observed from above 3 models that Linear Regression model has the lowest MSE so this model is given to Polynomial Features\n",
    "#After using Polynomial Features with Linear Regression the model's MSE values are lowered(from 1610479044.653723 to 990594262.8781486)\n",
    "#when compared to direct application of Linear Regression model also R square value is also increased from\n",
    "#0.75 to 0.86(Training Rsquare) and 0.77 to 0.86(Test Rsquare)\n",
    "#MSE-Polynomial featutes(Linear Regression):\n",
    "#Training score:  785489043.7669467\n",
    "#Test score:  990594262.8781486\n",
    "#R-square-Polynomial featutes(Linear Regression):\n",
    "#Training score:  0.8683665653808263\n",
    "#Test score:  0.864386998353686"
   ]
  }
 ],
 "metadata": {
  "kernelspec": {
   "display_name": "Python 3 (ipykernel)",
   "language": "python",
   "name": "python3"
  },
  "language_info": {
   "codemirror_mode": {
    "name": "ipython",
    "version": 3
   },
   "file_extension": ".py",
   "mimetype": "text/x-python",
   "name": "python",
   "nbconvert_exporter": "python",
   "pygments_lexer": "ipython3",
   "version": "3.10.9"
  },
  "vp": {
   "vp_config_version": "1.0.0",
   "vp_menu_width": 273,
   "vp_note_display": false,
   "vp_note_width": 0,
   "vp_position": {
    "width": 278
   },
   "vp_section_display": false,
   "vp_signature": "VisualPython"
  }
 },
 "nbformat": 4,
 "nbformat_minor": 5
}
